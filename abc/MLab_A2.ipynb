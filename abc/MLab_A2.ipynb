{
  "nbformat": 4,
  "nbformat_minor": 0,
  "metadata": {
    "kernelspec": {
      "display_name": "Python 3",
      "language": "python",
      "name": "python3"
    },
    "language_info": {
      "codemirror_mode": {
        "name": "ipython",
        "version": 3
      },
      "file_extension": ".py",
      "mimetype": "text/x-python",
      "name": "python",
      "nbconvert_exporter": "python",
      "pygments_lexer": "ipython3",
      "version": "3.8.3"
    },
    "colab": {
      "name": "MLab_A2.ipynb",
      "provenance": [],
      "include_colab_link": true
    }
  },
  "cells": [
    {
      "cell_type": "markdown",
      "metadata": {
        "id": "view-in-github",
        "colab_type": "text"
      },
      "source": [
        "<a href=\"https://colab.research.google.com/github/umang66782/Plaksha_Projects/blob/main/abc/MLab_A2.ipynb\" target=\"_parent\"><img src=\"https://colab.research.google.com/assets/colab-badge.svg\" alt=\"Open In Colab\"/></a>"
      ]
    },
    {
      "cell_type": "markdown",
      "metadata": {
        "id": "0WdR7ap20UdJ"
      },
      "source": [
        "# Machine Learning Lab 1"
      ]
    },
    {
      "cell_type": "markdown",
      "metadata": {
        "id": "6kVAX-I-0UdO"
      },
      "source": [
        "## Assignment 2 (Deadline : 22/10/2020 11:59PM)\n",
        "\n",
        "Total Points : 50"
      ]
    },
    {
      "cell_type": "markdown",
      "metadata": {
        "id": "-iOe94u20UdP"
      },
      "source": [
        "### 1. Read the data into numpy array"
      ]
    },
    {
      "cell_type": "code",
      "metadata": {
        "id": "wL7ElJIU0UdP"
      },
      "source": [
        "# Read data from file: 'data.csv'. \n",
        "# Note that the first row has the number of inputs and number of outputs specified.\n",
        "# For your reference: you can use \"np.loadtxt\".\n",
        "import numpy as np\n",
        "import pandas as pd \n",
        "\n",
        "data = pd.read_csv(\"data.csv\")\n",
        "data = data.reset_index(level=0)\n",
        "data.columns=['a','b','y']\n",
        "\n",
        "\n"
      ],
      "execution_count": null,
      "outputs": []
    },
    {
      "cell_type": "code",
      "metadata": {
        "id": "12fbh1190UdQ",
        "outputId": "a3a81421-56e5-4435-d800-c738cf125400"
      },
      "source": [
        "data.head()"
      ],
      "execution_count": null,
      "outputs": [
        {
          "output_type": "execute_result",
          "data": {
            "text/html": [
              "<div>\n",
              "<style scoped>\n",
              "    .dataframe tbody tr th:only-of-type {\n",
              "        vertical-align: middle;\n",
              "    }\n",
              "\n",
              "    .dataframe tbody tr th {\n",
              "        vertical-align: top;\n",
              "    }\n",
              "\n",
              "    .dataframe thead th {\n",
              "        text-align: right;\n",
              "    }\n",
              "</style>\n",
              "<table border=\"1\" class=\"dataframe\">\n",
              "  <thead>\n",
              "    <tr style=\"text-align: right;\">\n",
              "      <th></th>\n",
              "      <th>a</th>\n",
              "      <th>b</th>\n",
              "      <th>y</th>\n",
              "    </tr>\n",
              "  </thead>\n",
              "  <tbody>\n",
              "    <tr>\n",
              "      <th>0</th>\n",
              "      <td>51.87</td>\n",
              "      <td>79.72</td>\n",
              "      <td>1249.99</td>\n",
              "    </tr>\n",
              "    <tr>\n",
              "      <th>1</th>\n",
              "      <td>-30.66</td>\n",
              "      <td>-15.64</td>\n",
              "      <td>-516.61</td>\n",
              "    </tr>\n",
              "    <tr>\n",
              "      <th>2</th>\n",
              "      <td>-57.57</td>\n",
              "      <td>94.22</td>\n",
              "      <td>312.09</td>\n",
              "    </tr>\n",
              "    <tr>\n",
              "      <th>3</th>\n",
              "      <td>-122.10</td>\n",
              "      <td>5.15</td>\n",
              "      <td>-1544.90</td>\n",
              "    </tr>\n",
              "    <tr>\n",
              "      <th>4</th>\n",
              "      <td>-53.45</td>\n",
              "      <td>41.87</td>\n",
              "      <td>-201.57</td>\n",
              "    </tr>\n",
              "  </tbody>\n",
              "</table>\n",
              "</div>"
            ],
            "text/plain": [
              "        a      b        y\n",
              "0   51.87  79.72  1249.99\n",
              "1  -30.66 -15.64  -516.61\n",
              "2  -57.57  94.22   312.09\n",
              "3 -122.10   5.15 -1544.90\n",
              "4  -53.45  41.87  -201.57"
            ]
          },
          "metadata": {
            "tags": []
          },
          "execution_count": 23
        }
      ]
    },
    {
      "cell_type": "code",
      "metadata": {
        "id": "dOXh2EP20UdR",
        "outputId": "41994a4c-01e9-4e86-fd13-8907a8a886d4"
      },
      "source": [
        "data.info()"
      ],
      "execution_count": null,
      "outputs": [
        {
          "output_type": "stream",
          "text": [
            "<class 'pandas.core.frame.DataFrame'>\n",
            "RangeIndex: 3000 entries, 0 to 2999\n",
            "Data columns (total 3 columns):\n",
            " #   Column  Non-Null Count  Dtype  \n",
            "---  ------  --------------  -----  \n",
            " 0   a       3000 non-null   float64\n",
            " 1   b       3000 non-null   float64\n",
            " 2   y       3000 non-null   float64\n",
            "dtypes: float64(3)\n",
            "memory usage: 70.4 KB\n"
          ],
          "name": "stdout"
        }
      ]
    },
    {
      "cell_type": "code",
      "metadata": {
        "id": "VhrL8odg0UdS",
        "outputId": "62b49a8c-0acb-4db2-ad3a-d8761fd039b3"
      },
      "source": [
        "data.describe()"
      ],
      "execution_count": null,
      "outputs": [
        {
          "output_type": "execute_result",
          "data": {
            "text/html": [
              "<div>\n",
              "<style scoped>\n",
              "    .dataframe tbody tr th:only-of-type {\n",
              "        vertical-align: middle;\n",
              "    }\n",
              "\n",
              "    .dataframe tbody tr th {\n",
              "        vertical-align: top;\n",
              "    }\n",
              "\n",
              "    .dataframe thead th {\n",
              "        text-align: right;\n",
              "    }\n",
              "</style>\n",
              "<table border=\"1\" class=\"dataframe\">\n",
              "  <thead>\n",
              "    <tr style=\"text-align: right;\">\n",
              "      <th></th>\n",
              "      <th>a</th>\n",
              "      <th>b</th>\n",
              "      <th>y</th>\n",
              "    </tr>\n",
              "  </thead>\n",
              "  <tbody>\n",
              "    <tr>\n",
              "      <th>count</th>\n",
              "      <td>3000.000000</td>\n",
              "      <td>3000.00000</td>\n",
              "      <td>3000.000000</td>\n",
              "    </tr>\n",
              "    <tr>\n",
              "      <th>mean</th>\n",
              "      <td>-18.483293</td>\n",
              "      <td>31.24422</td>\n",
              "      <td>-11.450140</td>\n",
              "    </tr>\n",
              "    <tr>\n",
              "      <th>std</th>\n",
              "      <td>34.398479</td>\n",
              "      <td>42.99015</td>\n",
              "      <td>662.873355</td>\n",
              "    </tr>\n",
              "    <tr>\n",
              "      <th>min</th>\n",
              "      <td>-140.710000</td>\n",
              "      <td>-132.18000</td>\n",
              "      <td>-2325.790000</td>\n",
              "    </tr>\n",
              "    <tr>\n",
              "      <th>25%</th>\n",
              "      <td>-40.392500</td>\n",
              "      <td>3.38250</td>\n",
              "      <td>-446.140000</td>\n",
              "    </tr>\n",
              "    <tr>\n",
              "      <th>50%</th>\n",
              "      <td>-18.485000</td>\n",
              "      <td>31.34500</td>\n",
              "      <td>-17.680000</td>\n",
              "    </tr>\n",
              "    <tr>\n",
              "      <th>75%</th>\n",
              "      <td>4.125000</td>\n",
              "      <td>60.59000</td>\n",
              "      <td>429.782500</td>\n",
              "    </tr>\n",
              "    <tr>\n",
              "      <th>max</th>\n",
              "      <td>93.930000</td>\n",
              "      <td>189.99000</td>\n",
              "      <td>2198.490000</td>\n",
              "    </tr>\n",
              "  </tbody>\n",
              "</table>\n",
              "</div>"
            ],
            "text/plain": [
              "                 a           b            y\n",
              "count  3000.000000  3000.00000  3000.000000\n",
              "mean    -18.483293    31.24422   -11.450140\n",
              "std      34.398479    42.99015   662.873355\n",
              "min    -140.710000  -132.18000 -2325.790000\n",
              "25%     -40.392500     3.38250  -446.140000\n",
              "50%     -18.485000    31.34500   -17.680000\n",
              "75%       4.125000    60.59000   429.782500\n",
              "max      93.930000   189.99000  2198.490000"
            ]
          },
          "metadata": {
            "tags": []
          },
          "execution_count": 25
        }
      ]
    },
    {
      "cell_type": "markdown",
      "metadata": {
        "id": "j002jVsW0UdT"
      },
      "source": [
        "### 2. Plot and Explore the data to get a better understanding"
      ]
    },
    {
      "cell_type": "code",
      "metadata": {
        "id": "CSyISS8m0UdU",
        "outputId": "deb0345d-1c47-412e-e386-0d50ad325331"
      },
      "source": [
        "import matplotlib.pyplot as plt\n",
        "data.hist(bins = 20 , figsize=(10,5))\n",
        "plt.show()"
      ],
      "execution_count": null,
      "outputs": [
        {
          "output_type": "display_data",
          "data": {
            "image/png": "[encoded data removed]",
            "text/plain": [
              "<Figure size 720x360 with 4 Axes>"
            ]
          },
          "metadata": {
            "tags": [],
            "needs_background": "light"
          }
        }
      ]
    },
    {
      "cell_type": "code",
      "metadata": {
        "id": "oWc_Y5-70UdW",
        "outputId": "0330ac66-9463-4598-8f97-8f3d83a70e04"
      },
      "source": [
        "data.corr()"
      ],
      "execution_count": null,
      "outputs": [
        {
          "output_type": "execute_result",
          "data": {
            "text/html": [
              "<div>\n",
              "<style scoped>\n",
              "    .dataframe tbody tr th:only-of-type {\n",
              "        vertical-align: middle;\n",
              "    }\n",
              "\n",
              "    .dataframe tbody tr th {\n",
              "        vertical-align: top;\n",
              "    }\n",
              "\n",
              "    .dataframe thead th {\n",
              "        text-align: right;\n",
              "    }\n",
              "</style>\n",
              "<table border=\"1\" class=\"dataframe\">\n",
              "  <thead>\n",
              "    <tr style=\"text-align: right;\">\n",
              "      <th></th>\n",
              "      <th>a</th>\n",
              "      <th>b</th>\n",
              "      <th>y</th>\n",
              "    </tr>\n",
              "  </thead>\n",
              "  <tbody>\n",
              "    <tr>\n",
              "      <th>a</th>\n",
              "      <td>1.000000</td>\n",
              "      <td>0.499028</td>\n",
              "      <td>0.890029</td>\n",
              "    </tr>\n",
              "    <tr>\n",
              "      <th>b</th>\n",
              "      <td>0.499028</td>\n",
              "      <td>1.000000</td>\n",
              "      <td>0.786392</td>\n",
              "    </tr>\n",
              "    <tr>\n",
              "      <th>y</th>\n",
              "      <td>0.890029</td>\n",
              "      <td>0.786392</td>\n",
              "      <td>1.000000</td>\n",
              "    </tr>\n",
              "  </tbody>\n",
              "</table>\n",
              "</div>"
            ],
            "text/plain": [
              "          a         b         y\n",
              "a  1.000000  0.499028  0.890029\n",
              "b  0.499028  1.000000  0.786392\n",
              "y  0.890029  0.786392  1.000000"
            ]
          },
          "metadata": {
            "tags": []
          },
          "execution_count": 27
        }
      ]
    },
    {
      "cell_type": "markdown",
      "metadata": {
        "id": "Y7iMaoVl0UdX"
      },
      "source": [
        "### 3. Prepare the data for modelling. (8 points)"
      ]
    },
    {
      "cell_type": "code",
      "metadata": {
        "id": "-lnt7_9k0UdX"
      },
      "source": [
        "# Separate the data: input and output.\n",
        "\n",
        "data_x = data[['a','b']]\n",
        "data_y = data ['y']\n",
        "data_x = np.asanyarray(data_x)\n",
        "data_y = np.asanyarray(data_y)\n",
        "\n"
      ],
      "execution_count": null,
      "outputs": []
    },
    {
      "cell_type": "code",
      "metadata": {
        "id": "odtVR50a0UdY"
      },
      "source": [
        "# Perform a train-val-test split of 60-20-20.\n",
        "# Use \"random_state=42\".\n",
        "# For your reference: you can use \"train_test_split\" from sklearn twice to perform this. \n",
        "# From your understanding of the dataset, is stratified sampling necessary in this case? Why / Why not?\n",
        "\n",
        "from sklearn.model_selection import train_test_split\n",
        "train_x ,test_x, train_y, test_y = train_test_split(data_x, data_y, test_size=0.2, shuffle=True ,random_state=42)\n",
        "train_x ,val_x , train_y, val_y = train_test_split(train_x, train_y, test_size=0.25,shuffle=True, random_state=42)"
      ],
      "execution_count": null,
      "outputs": []
    },
    {
      "cell_type": "markdown",
      "metadata": {
        "id": "J-xwFyXj0UdZ"
      },
      "source": [
        "#### No, Stratified sampling is not necessary because stratified sampling is involves the random selection of data from an entire data, so each possible sample is equally likely to occur. But from histograph of input, output, we can see the sample of data are equally distributed as normally. So, no need to use stratified sampling,"
      ]
    },
    {
      "cell_type": "markdown",
      "metadata": {
        "id": "7SlRvlXu0Uda"
      },
      "source": [
        "### 4. Modelling"
      ]
    },
    {
      "cell_type": "markdown",
      "metadata": {
        "id": "9wiCHAkT0Uda"
      },
      "source": [
        "#### 4.1. Linear Regression (8 points)"
      ]
    },
    {
      "cell_type": "code",
      "metadata": {
        "id": "-gl2T--50Udb",
        "outputId": "7c67f989-8fe2-4f0a-8fb2-74aa72e91da5"
      },
      "source": [
        "# Implement Linear Regression.\n",
        "# Use both train and val data for training purpose.\n",
        "# Make preditions on both training(train+val) and test data.\n",
        "from sklearn.linear_model import LinearRegression\n",
        "train_x_val = np.concatenate((train_x, val_x), axis=0)\n",
        "train_y_val = np.concatenate((train_y, val_y), axis=0)\n",
        "lin_reg = LinearRegression().fit(train_x_val,train_y_val)\n",
        "prdt_train_y = lin_reg.predict(train_x_val)\n",
        "prdt_test_y = lin_reg.predict(test_x)\n",
        "lin_reg.score(train_x, train_y)"
      ],
      "execution_count": null,
      "outputs": [
        {
          "output_type": "execute_result",
          "data": {
            "text/plain": [
              "0.948116725328535"
            ]
          },
          "metadata": {
            "tags": []
          },
          "execution_count": 29
        }
      ]
    },
    {
      "cell_type": "markdown",
      "metadata": {
        "id": "YPUG0IZQ0Udc"
      },
      "source": [
        "#### 4.2. Ridge Regression (8 points)"
      ]
    },
    {
      "cell_type": "code",
      "metadata": {
        "id": "aNtekKKS0Udd",
        "outputId": "ba9e91fe-1598-47ce-cc4e-3dea87f97eb2"
      },
      "source": [
        "# Implement Ridge Regression.\n",
        "# Perform cross validation to find a good value for your hyper-parameter.\n",
        "# After choosing a good value for your hyper-parameter, use both train and val data for final training purpose of your model.\n",
        "# Make preditions on both training(train+val) and test data.\n",
        "import numpy as np\n",
        "from sklearn.linear_model import RidgeCV, Ridge\n",
        "\n",
        "ridge_reg = RidgeCV(alphas = np.linspace(0.5,500,1000))\n",
        "ridge_reg.fit(train_x_val, train_y_val)\n",
        "alpha = ridge_reg.alpha_\n",
        "print(alpha)\n",
        "\n",
        "ridge_reg = Ridge(alpha=alpha)\n",
        "ridge_reg.fit(train_x_val, train_y_val)\n",
        "prdt_train_val_y = ridge_reg.predict(train_x_val)\n",
        "prdt_test_y = ridge_reg.predict(test_x)\n",
        "ridge_reg.score(train_x, train_y)\n",
        "\n",
        "\n"
      ],
      "execution_count": null,
      "outputs": [
        {
          "output_type": "stream",
          "text": [
            "345.0\n"
          ],
          "name": "stdout"
        },
        {
          "output_type": "execute_result",
          "data": {
            "text/plain": [
              "0.948116579481558"
            ]
          },
          "metadata": {
            "tags": []
          },
          "execution_count": 89
        }
      ]
    },
    {
      "cell_type": "markdown",
      "metadata": {
        "id": "_8GeMy3-0Udf"
      },
      "source": [
        "#### 4.3. Lasso Regression (8 points)"
      ]
    },
    {
      "cell_type": "code",
      "metadata": {
        "id": "pjwVWYss0Udg",
        "outputId": "a069ddd6-dbe6-463c-f349-39b82b9bd419"
      },
      "source": [
        "# Implement Lasso Regression.\n",
        "# Perform cross validation to find a good value for your hyper-parameter.\n",
        "# After choosing a good value for your hyper-parameter, use both train and val data for final training purpose of your model.\n",
        "# Make preditions on both training(train+val) and test data.\n",
        "\n",
        "import numpy as np\n",
        "from sklearn.linear_model import Lasso, LassoCV\n",
        "#alphas = np.arange(0.5,500,0.01)\n",
        "Lasso_reg = LassoCV(alphas = np.linspace(0.1,250,1000))\n",
        "Lasso_reg.fit(train_x_val,train_y_val)\n",
        "alpha = Lasso_reg.alpha_\n",
        "print(alpha)\n",
        "Lasso_reg = Lasso(alpha=alpha)\n",
        "Lasso_reg.fit(train_x_val,train_y_val)\n",
        "prdt_train_val_y = Lasso_reg.predict(train_x_val)\n",
        "prdt_test_y = Lasso_reg.predict(test_x)\n",
        "Lasso_reg.score(train_x, train_y)\n",
        "\n",
        "\n",
        "\n"
      ],
      "execution_count": null,
      "outputs": [
        {
          "output_type": "stream",
          "text": [
            "0.1\n"
          ],
          "name": "stdout"
        },
        {
          "output_type": "execute_result",
          "data": {
            "text/plain": [
              "0.9481167155716546"
            ]
          },
          "metadata": {
            "tags": []
          },
          "execution_count": 82
        }
      ]
    },
    {
      "cell_type": "markdown",
      "metadata": {
        "id": "09Q5SM6h0Udi"
      },
      "source": [
        "#### 4.4. ElasticNet Regression (8 points)"
      ]
    },
    {
      "cell_type": "code",
      "metadata": {
        "id": "KCra65t30Udj",
        "outputId": "09a052f4-2a2a-4f3b-c79b-376b8ad04d66"
      },
      "source": [
        "# Implement ElasticNet Regression.\n",
        "# Perform cross validation to find a good value for your hyper-parameters.\n",
        "# After choosing a good value for your hyper-parameter, use both train and val data for final training purpose of your model.\n",
        "# Make preditions on both training(train+val) and test data.\n",
        "\n",
        "\n",
        "import numpy as np\n",
        "from sklearn.linear_model import ElasticNet,ElasticNetCV\n",
        "ElasticNet_reg = ElasticNetCV(alphas = np.linspace(0.5,250,1000))\n",
        "ElasticNet_reg.fit(train_x_val,train_y_val)\n",
        "alpha = ElasticNet_reg.alpha_\n",
        "print(alpha)\n",
        "ElasticNet_reg = Lasso(alpha=alpha)\n",
        "ElasticNet_reg.fit(train_x_val,train_y_val)\n",
        "prdt_train_val_y = ElasticNet_reg.predict(train_x_val)\n",
        "prdt_test_y = ElasticNet_reg.predict(test_x)\n",
        "ElasticNet_reg.score(train_x, train_y)\n"
      ],
      "execution_count": null,
      "outputs": [
        {
          "output_type": "stream",
          "text": [
            "0.5\n"
          ],
          "name": "stdout"
        },
        {
          "output_type": "execute_result",
          "data": {
            "text/plain": [
              "0.9481166744740084"
            ]
          },
          "metadata": {
            "tags": []
          },
          "execution_count": 85
        }
      ]
    },
    {
      "cell_type": "markdown",
      "metadata": {
        "id": "hbA2y0lg0Udk"
      },
      "source": [
        "### 5. Analysis (8 points)"
      ]
    },
    {
      "cell_type": "code",
      "metadata": {
        "id": "BsaRo79U0Udk"
      },
      "source": [
        "# Write down the actual value along with the preditions from all the regression models, for the first 10 points in test data.\n",
        "# Find both RMSE and MAE for all the regression models on both training(train+val) and testing data.\n"
      ],
      "execution_count": null,
      "outputs": []
    },
    {
      "cell_type": "markdown",
      "metadata": {
        "id": "UPWlOc310Udl"
      },
      "source": [
        "## Linear Regression "
      ]
    },
    {
      "cell_type": "code",
      "metadata": {
        "id": "CrGO0A1j0Udm",
        "outputId": "cbd8662a-5c2b-4c98-8e01-5f61309f94a9"
      },
      "source": [
        "prdt_test_y = lin_reg.predict(test_x[0:10])\n",
        "print(test_y[0:10],'\\n',prdt_test_y,'\\n')"
      ],
      "execution_count": null,
      "outputs": [
        {
          "output_type": "stream",
          "text": [
            "[  66.12 -572.89  -94.71 -306.84  580.1   -34.05  -81.37  552.6   -24.39\n",
            "  538.47] \n",
            " [  61.23562991 -576.47400223 -112.4892831  -413.46017031  602.52161228\n",
            "  -19.80815241 -172.96819682  601.27825731  -42.40641735  558.28390456] \n",
            "\n"
          ],
          "name": "stdout"
        }
      ]
    },
    {
      "cell_type": "code",
      "metadata": {
        "id": "-tBkSFmZ0Udn",
        "outputId": "403e8fab-520b-4dea-8534-324a38c2cf57"
      },
      "source": [
        "prdt_train_y_val = lin_reg.predict(train_x_val)\n",
        "rmse_linreg = np.sqrt(mean_squared_error(prdt_train_y_val, train_y_val))\n",
        "mae_linreg = mean_absolute_error(prdt_train_y_val, train_y_val)\n",
        "\n",
        "prdt_test_y = lin_reg.predict(test_x)\n",
        "rmse_linregr_1 = np.sqrt(mean_squared_error(prdt_test_y, test_y))\n",
        "mae_linregr_1 = mean_absolute_error(prdt_test_y, test_y)\n",
        "\n",
        "print(\"RMSE(train+val) = \",rmse_linreg,'\\n' )\n",
        "print(\"MAE(train+val) = \",mae_linreg,'\\n' )\n",
        "print(\"RMSE(test) = \",rmse_linregr_1,'\\n' )\n",
        "print(\"MAE (test) = \",mae_linregr_1,'\\n' )"
      ],
      "execution_count": null,
      "outputs": [
        {
          "output_type": "stream",
          "text": [
            "RMSE(train+val) =  151.58756422068186 \n",
            "\n",
            "MAE(train+val) =  120.77989321708048 \n",
            "\n",
            "RMSE(test) =  148.47388000962516 \n",
            "\n",
            "MAE (test) =  118.72866511674283 \n",
            "\n"
          ],
          "name": "stdout"
        }
      ]
    },
    {
      "cell_type": "markdown",
      "metadata": {
        "id": "1iziFJ_R0Udo"
      },
      "source": [
        "## Ridge Regression"
      ]
    },
    {
      "cell_type": "code",
      "metadata": {
        "id": "frSBUlmo0Udp",
        "outputId": "62093799-dc96-4c2f-a195-ca3fceb00a17"
      },
      "source": [
        "prdt_test_y = ridge_reg.predict(test_x[0:10])\n",
        "print(test_y[0:10],'\\n',prdt_test_y,'\\n')"
      ],
      "execution_count": null,
      "outputs": [
        {
          "output_type": "stream",
          "text": [
            "[  66.12 -572.89  -94.71 -306.84  580.1   -34.05  -81.37  552.6   -24.39\n",
            "  538.47] \n",
            " [[-16.89979208  38.70934766]\n",
            " [-19.19508113 -47.19186941]\n",
            " [-16.78144462  13.97192837]\n",
            " [-47.56548554  26.79856227]\n",
            " [ 34.2606874   23.19433839]\n",
            " [-27.85742784  46.95776645]\n",
            " [-38.07594603  43.69743104]\n",
            " [ 19.98473992  48.67074629]\n",
            " [  2.81363008 -11.34414511]\n",
            " [  7.44790829  65.12820704]] \n",
            "\n"
          ],
          "name": "stdout"
        }
      ]
    },
    {
      "cell_type": "code",
      "metadata": {
        "id": "xrKqzQ9n0Udq",
        "outputId": "0667e55d-f369-44ef-c845-3d6c7d845ed9"
      },
      "source": [
        "prdt_train_y_val = ridge_reg.predict(train_x_val)\n",
        "rmse_ridge_reg = np.sqrt(mean_squared_error(prdt_train_y_val, train_y_val))\n",
        "mae_ridge_reg = mean_absolute_error(prdt_train_y_val, train_y_val)\n",
        "\n",
        "prdt_test_y = ridge_reg.predict(test_x)\n",
        "rmse_ridge_reg_1 = np.sqrt(mean_squared_error(prdt_test_y, test_y))\n",
        "mae_ridge_reg_1 = mean_absolute_error(prdt_test_y, test_y)\n",
        "\n",
        "print(\"RMSE(train+val) = \",rmse_ridge_reg,'\\n' )\n",
        "print(\"MAE(train+val) = \",mae_ridge_reg,'\\n' )\n",
        "print(\"RMSE(test) = \",rmse_ridge_reg_1,'\\n' )\n",
        "print(\"MAE (test) = \",mae_ridge_reg_1,'\\n' )"
      ],
      "execution_count": null,
      "outputs": [
        {
          "output_type": "stream",
          "text": [
            "RMSE(train+val) =  151.58757380353052 \n",
            "\n",
            "MAE(train+val) =  120.78073780395916 \n",
            "\n",
            "RMSE(test) =  148.47458176880644 \n",
            "\n",
            "MAE (test) =  118.73033117359688 \n",
            "\n"
          ],
          "name": "stdout"
        }
      ]
    },
    {
      "cell_type": "markdown",
      "metadata": {
        "id": "c7cOUUar0Udu"
      },
      "source": [
        "## Lasso Regression "
      ]
    },
    {
      "cell_type": "code",
      "metadata": {
        "id": "3KNcgSLz0Udw",
        "outputId": "275ff205-cc67-4f6f-f9cd-85af70944477"
      },
      "source": [
        "prdt_test_y = Lasso_reg.predict(test_x[0:10])\n",
        "print(test_y[0:10],'\\n',prdt_test_y,'\\n')"
      ],
      "execution_count": null,
      "outputs": [
        {
          "output_type": "stream",
          "text": [
            "[  66.12 -572.89  -94.71 -306.84  580.1   -34.05  -81.37  552.6   -24.39\n",
            "  538.47] \n",
            " [  61.23522843 -576.46962545 -112.48830537 -413.46003354  602.52228506\n",
            "  -19.80905848 -172.96896303  601.27745171  -42.40394838  558.28213036] \n",
            "\n"
          ],
          "name": "stdout"
        }
      ]
    },
    {
      "cell_type": "code",
      "metadata": {
        "id": "o39R2ABZ0Udx",
        "outputId": "3f46c8b8-6866-4f79-880a-0a61312da9dc"
      },
      "source": [
        "prdt_train_y_val = Lasso_reg.predict(train_x_val)\n",
        "rmse_Lasso_reg = np.sqrt(mean_squared_error(prdt_train_y_val, train_y_val))\n",
        "mae_Lasso_reg = mean_absolute_error(prdt_train_y_val, train_y_val)\n",
        "\n",
        "prdt_test_y = Lasso_reg.predict(test_x)\n",
        "rmse_Lasso_reg_1 = np.sqrt(mean_squared_error(prdt_test_y, test_y))\n",
        "mae_Lasso_reg_1 = mean_absolute_error(prdt_test_y, test_y)\n",
        "\n",
        "print(\"RMSE(train+val) = \",rmse_Lasso_reg,'\\n' )\n",
        "print(\"MAE(train+val) = \",mae_Lasso_reg,'\\n' )\n",
        "print(\"RMSE(test) = \",rmse_Lasso_reg_1,'\\n' )\n",
        "print(\"MAE (test) = \",mae_Lasso_reg_1,'\\n' )"
      ],
      "execution_count": null,
      "outputs": [
        {
          "output_type": "stream",
          "text": [
            "RMSE(train+val) =  151.58756423857486 \n",
            "\n",
            "MAE(train+val) =  120.77991457043026 \n",
            "\n",
            "RMSE(test) =  148.47374032516424 \n",
            "\n",
            "MAE (test) =  118.72849886815231 \n",
            "\n"
          ],
          "name": "stdout"
        }
      ]
    },
    {
      "cell_type": "markdown",
      "metadata": {
        "id": "i_IwTiPw0Udy"
      },
      "source": [
        "## ElasticNet Regression"
      ]
    },
    {
      "cell_type": "code",
      "metadata": {
        "id": "pDiRcobD0Udz",
        "outputId": "d28fe18c-3066-4229-c262-a73625d6078e"
      },
      "source": [
        "prdt_test_y = ElasticNet_reg.predict(test_x[0:10])\n",
        "print(test_y[0:10],'\\n',prdt_test_y,'\\n')"
      ],
      "execution_count": null,
      "outputs": [
        {
          "output_type": "stream",
          "text": [
            "[  66.12 -572.89  -94.71 -306.84  580.1   -34.05  -81.37  552.6   -24.39\n",
            "  538.47] \n",
            " [  61.23371814 -576.45445456 -112.48505863 -413.45741094  602.52069468\n",
            "  -19.81150019 -172.97016403  601.27181101  -42.39700119  558.27407199] \n",
            "\n"
          ],
          "name": "stdout"
        }
      ]
    },
    {
      "cell_type": "code",
      "metadata": {
        "id": "vIRVmg0q0Udz",
        "outputId": "06a31940-b6ee-4595-ccbf-26843a5d49af"
      },
      "source": [
        "prdt_train_y_val = ElasticNet_reg.predict(train_x_val)\n",
        "rmse_ElasticNet_reg = np.sqrt(mean_squared_error(prdt_train_y_val, train_y_val))\n",
        "mae_ElasticNet_reg = mean_absolute_error(prdt_train_y_val, train_y_val)\n",
        "\n",
        "prdt_test_y = ElasticNet_reg.predict(test_x)\n",
        "rmse_ElasticNet_reg_1 = np.sqrt(mean_squared_error(prdt_test_y, test_y))\n",
        "mae_ElasticNet_reg_1 = mean_absolute_error(prdt_test_y, test_y)\n",
        "\n",
        "print(\"RMSE(train+val) = \",rmse_ElasticNet_reg,'\\n' )\n",
        "print(\"MAE(train+val) = \",mae_ElasticNet_reg,'\\n' )\n",
        "print(\"RMSE(test) = \",rmse_ElasticNet_reg_1,'\\n' )\n",
        "print(\"MAE (test) = \",mae_ElasticNet_reg_1,'\\n' )"
      ],
      "execution_count": null,
      "outputs": [
        {
          "output_type": "stream",
          "text": [
            "RMSE(train+val) =  151.5875646757279 \n",
            "\n",
            "MAE(train+val) =  120.78002835654857 \n",
            "\n",
            "RMSE(test) =  148.4732775762452 \n",
            "\n",
            "MAE (test) =  118.7279858374883 \n",
            "\n"
          ],
          "name": "stdout"
        }
      ]
    },
    {
      "cell_type": "markdown",
      "metadata": {
        "id": "zw1R8Uee0Ud2"
      },
      "source": [
        "### 6. Final Observations (2 points)"
      ]
    },
    {
      "cell_type": "code",
      "metadata": {
        "id": "DK79PkG_0Ud4"
      },
      "source": [
        "# Write down your final conclusions/observations."
      ],
      "execution_count": null,
      "outputs": []
    },
    {
      "cell_type": "markdown",
      "metadata": {
        "id": "IIS1Zc4d0Ud5"
      },
      "source": [
        "1. For linear, Ridge,Lasso, ElasticNet Square, MAE(train+val),MAE(test), RMSE(train+val),RMSE(test) is aproxmiately equal which means every model perform equal with same error."
      ]
    },
    {
      "cell_type": "markdown",
      "metadata": {
        "id": "JUNTCebk0Ud5"
      },
      "source": [
        "2. Regularlization model(Ridge,Lasso, ElasticNet) are showing eaqual error. So, no need to used these model, we can use linear regression for this data."
      ]
    },
    {
      "cell_type": "markdown",
      "metadata": {
        "id": "tAIEAFuZ0Ud6"
      },
      "source": [
        "3. As correlation between both input to output is approxmiatley same , So we can use linear modeling for this data. "
      ]
    },
    {
      "cell_type": "code",
      "metadata": {
        "id": "Jmt6wye-0Ud7"
      },
      "source": [
        ""
      ],
      "execution_count": null,
      "outputs": []
    }
  ]
}