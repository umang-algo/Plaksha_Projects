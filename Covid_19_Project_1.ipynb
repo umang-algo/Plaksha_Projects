{
  "nbformat": 4,
  "nbformat_minor": 0,
  "metadata": {
    "kernelspec": {
      "name": "python3",
      "display_name": "Python 3.6",
      "language": "python"
    },
    "language_info": {
      "name": "python",
      "version": "3.6.9",
      "mimetype": "text/x-python",
      "codemirror_mode": {
        "name": "ipython",
        "version": 3
      },
      "pygments_lexer": "ipython3",
      "nbconvert_exporter": "python",
      "file_extension": ".py"
    },
    "colab": {
      "name": "Covid-19 Project 1.ipynb",
      "provenance": [],
      "include_colab_link": true
    }
  },
  "cells": [
    {
      "cell_type": "markdown",
      "metadata": {
        "id": "view-in-github",
        "colab_type": "text"
      },
      "source": [
        "<a href=\"https://colab.research.google.com/github/umang66782/Plaksha/blob/main/Covid_19_Project_1.ipynb\" target=\"_parent\"><img src=\"https://colab.research.google.com/assets/colab-badge.svg\" alt=\"Open In Colab\"/></a>"
      ]
    },
    {
      "cell_type": "markdown",
      "metadata": {
        "id": "r7evNmPSOMgt"
      },
      "source": [
        "# The notebook shows visualizations for COVID-19 spread across the globe with the data available from 22 Jan, 2020 to 2 May, 2020.\n",
        "### COVID-19 spread due to corona virus was first identified in the Wuhan region of China in Dec, 2019 and it spread across the globe such that World Health Organization had to declare it to be a pandemic by 11 March, 2020. John Hopkins University Centre for Systems Science and Engineering is maintaining a repository of data collected from sources like WHO, CDC and Ministry of Health of different nations."
      ]
    },
    {
      "cell_type": "markdown",
      "metadata": {
        "id": "aB_00XWUOMg1"
      },
      "source": [
        "#### Data used in this notebook has been taken from https://github.com/RamiKrispin/coronavirus ."
      ]
    },
    {
      "cell_type": "code",
      "metadata": {
        "id": "C1ij4ZikOMg2"
      },
      "source": [
        "# Import the libraries\n",
        "\n",
        "import numpy as np\n",
        "import pandas as pd\n",
        "import matplotlib.pyplot as plt\n",
        "%matplotlib inline\n",
        "import seaborn as sns\n",
        "sns.set()"
      ],
      "execution_count": null,
      "outputs": []
    },
    {
      "cell_type": "code",
      "metadata": {
        "id": "8NVX5_dxOMg3",
        "outputId": "82673101-83e0-4cc5-9f7b-37c5430d4e23"
      },
      "source": [
        "# Uploading the data set into the notebook\n",
        "\n",
        "import types\n",
        "from botocore.client import Config\n",
        "import ibm_boto3\n",
        "\n",
        "def __iter__(self): return 0\n",
        "\n",
        "# @hidden_cell\n",
        "# The following code accesses a file in your IBM Cloud Object Storage. It includes your credentials.\n",
        "# You might want to remove those credentials before you share the notebook.\n",
        "client_3314baee1ae143eda368449313c2620e = ibm_boto3.client(service_name='s3',\n",
        "    ibm_api_key_id='CMnCzzoCeUFVzKbHpYzlx59W-SoHyXOoTAF57fOpc9J8',\n",
        "    ibm_auth_endpoint=\"https://iam.eu-gb.bluemix.net/oidc/token\",\n",
        "    config=Config(signature_version='oauth'),\n",
        "    endpoint_url='https://s3.eu-geo.objectstorage.service.networklayer.com')\n",
        "\n",
        "body = client_3314baee1ae143eda368449313c2620e.get_object(Bucket='covid19datacamp-donotdelete-pr-gslqrnusmedagt',Key='coronavirus_dataset.xlsx')['Body']\n",
        "# add missing __iter__ method, so pandas accepts body as file-like object\n",
        "if not hasattr(body, \"__iter__\"): body.__iter__ = types.MethodType( __iter__, body )\n",
        "\n",
        "pd.set_option(\"display.max_columns\",None)\n",
        "df = pd.read_excel(body)\n",
        "df.head()\n"
      ],
      "execution_count": null,
      "outputs": [
        {
          "output_type": "execute_result",
          "data": {
            "text/plain": [
              "  Province.State Country.Region   Lat  Long       date  cases       type\n",
              "0            NaN    Afghanistan  33.0  65.0 2020-01-22      0  confirmed\n",
              "1            NaN    Afghanistan  33.0  65.0 2020-01-23      0  confirmed\n",
              "2            NaN    Afghanistan  33.0  65.0 2020-01-24      0  confirmed\n",
              "3            NaN    Afghanistan  33.0  65.0 2020-01-25      0  confirmed\n",
              "4            NaN    Afghanistan  33.0  65.0 2020-01-26      0  confirmed"
            ],
            "text/html": [
              "<div>\n",
              "<style scoped>\n",
              "    .dataframe tbody tr th:only-of-type {\n",
              "        vertical-align: middle;\n",
              "    }\n",
              "\n",
              "    .dataframe tbody tr th {\n",
              "        vertical-align: top;\n",
              "    }\n",
              "\n",
              "    .dataframe thead th {\n",
              "        text-align: right;\n",
              "    }\n",
              "</style>\n",
              "<table border=\"1\" class=\"dataframe\">\n",
              "  <thead>\n",
              "    <tr style=\"text-align: right;\">\n",
              "      <th></th>\n",
              "      <th>Province.State</th>\n",
              "      <th>Country.Region</th>\n",
              "      <th>Lat</th>\n",
              "      <th>Long</th>\n",
              "      <th>date</th>\n",
              "      <th>cases</th>\n",
              "      <th>type</th>\n",
              "    </tr>\n",
              "  </thead>\n",
              "  <tbody>\n",
              "    <tr>\n",
              "      <th>0</th>\n",
              "      <td>NaN</td>\n",
              "      <td>Afghanistan</td>\n",
              "      <td>33.0</td>\n",
              "      <td>65.0</td>\n",
              "      <td>2020-01-22</td>\n",
              "      <td>0</td>\n",
              "      <td>confirmed</td>\n",
              "    </tr>\n",
              "    <tr>\n",
              "      <th>1</th>\n",
              "      <td>NaN</td>\n",
              "      <td>Afghanistan</td>\n",
              "      <td>33.0</td>\n",
              "      <td>65.0</td>\n",
              "      <td>2020-01-23</td>\n",
              "      <td>0</td>\n",
              "      <td>confirmed</td>\n",
              "    </tr>\n",
              "    <tr>\n",
              "      <th>2</th>\n",
              "      <td>NaN</td>\n",
              "      <td>Afghanistan</td>\n",
              "      <td>33.0</td>\n",
              "      <td>65.0</td>\n",
              "      <td>2020-01-24</td>\n",
              "      <td>0</td>\n",
              "      <td>confirmed</td>\n",
              "    </tr>\n",
              "    <tr>\n",
              "      <th>3</th>\n",
              "      <td>NaN</td>\n",
              "      <td>Afghanistan</td>\n",
              "      <td>33.0</td>\n",
              "      <td>65.0</td>\n",
              "      <td>2020-01-25</td>\n",
              "      <td>0</td>\n",
              "      <td>confirmed</td>\n",
              "    </tr>\n",
              "    <tr>\n",
              "      <th>4</th>\n",
              "      <td>NaN</td>\n",
              "      <td>Afghanistan</td>\n",
              "      <td>33.0</td>\n",
              "      <td>65.0</td>\n",
              "      <td>2020-01-26</td>\n",
              "      <td>0</td>\n",
              "      <td>confirmed</td>\n",
              "    </tr>\n",
              "  </tbody>\n",
              "</table>\n",
              "</div>"
            ]
          },
          "metadata": {
            "tags": []
          },
          "execution_count": 61
        }
      ]
    },
    {
      "cell_type": "markdown",
      "metadata": {
        "id": "H8j8LMUNOMg4"
      },
      "source": [
        "## 1. Confirmed cases throughout the world."
      ]
    },
    {
      "cell_type": "code",
      "metadata": {
        "id": "MRR_CQpZOMg4"
      },
      "source": [
        "df1 = df[df[\"type\"]==\"confirmed\"]"
      ],
      "execution_count": null,
      "outputs": []
    },
    {
      "cell_type": "code",
      "metadata": {
        "scrolled": true,
        "id": "sh6R3vT9OMg5",
        "outputId": "169f1aa5-cee1-49ef-9f6a-68c2a22ecec8"
      },
      "source": [
        "df2 = pd.DataFrame(df1.groupby(\"date\")[\"cases\"].sum())\n",
        "df2.head()"
      ],
      "execution_count": null,
      "outputs": [
        {
          "output_type": "execute_result",
          "data": {
            "text/plain": [
              "            cases\n",
              "date             \n",
              "2020-01-22    555\n",
              "2020-01-23     99\n",
              "2020-01-24    287\n",
              "2020-01-25    493\n",
              "2020-01-26    684"
            ],
            "text/html": [
              "<div>\n",
              "<style scoped>\n",
              "    .dataframe tbody tr th:only-of-type {\n",
              "        vertical-align: middle;\n",
              "    }\n",
              "\n",
              "    .dataframe tbody tr th {\n",
              "        vertical-align: top;\n",
              "    }\n",
              "\n",
              "    .dataframe thead th {\n",
              "        text-align: right;\n",
              "    }\n",
              "</style>\n",
              "<table border=\"1\" class=\"dataframe\">\n",
              "  <thead>\n",
              "    <tr style=\"text-align: right;\">\n",
              "      <th></th>\n",
              "      <th>cases</th>\n",
              "    </tr>\n",
              "    <tr>\n",
              "      <th>date</th>\n",
              "      <th></th>\n",
              "    </tr>\n",
              "  </thead>\n",
              "  <tbody>\n",
              "    <tr>\n",
              "      <th>2020-01-22</th>\n",
              "      <td>555</td>\n",
              "    </tr>\n",
              "    <tr>\n",
              "      <th>2020-01-23</th>\n",
              "      <td>99</td>\n",
              "    </tr>\n",
              "    <tr>\n",
              "      <th>2020-01-24</th>\n",
              "      <td>287</td>\n",
              "    </tr>\n",
              "    <tr>\n",
              "      <th>2020-01-25</th>\n",
              "      <td>493</td>\n",
              "    </tr>\n",
              "    <tr>\n",
              "      <th>2020-01-26</th>\n",
              "      <td>684</td>\n",
              "    </tr>\n",
              "  </tbody>\n",
              "</table>\n",
              "</div>"
            ]
          },
          "metadata": {
            "tags": []
          },
          "execution_count": 63
        }
      ]
    },
    {
      "cell_type": "code",
      "metadata": {
        "scrolled": true,
        "id": "yl3v1BjVOMg5"
      },
      "source": [
        "df2.reset_index(drop=True, inplace=True)"
      ],
      "execution_count": null,
      "outputs": []
    },
    {
      "cell_type": "code",
      "metadata": {
        "id": "5_eOw9EDOMg6",
        "outputId": "85103b7f-b863-43e0-c172-2fb8acd5d8b3"
      },
      "source": [
        "df2[\"cumsum\"] = df2[\"cases\"].cumsum()\n",
        "df2.head()"
      ],
      "execution_count": null,
      "outputs": [
        {
          "output_type": "execute_result",
          "data": {
            "text/plain": [
              "   cases  cumsum\n",
              "0    555     555\n",
              "1     99     654\n",
              "2    287     941\n",
              "3    493    1434\n",
              "4    684    2118"
            ],
            "text/html": [
              "<div>\n",
              "<style scoped>\n",
              "    .dataframe tbody tr th:only-of-type {\n",
              "        vertical-align: middle;\n",
              "    }\n",
              "\n",
              "    .dataframe tbody tr th {\n",
              "        vertical-align: top;\n",
              "    }\n",
              "\n",
              "    .dataframe thead th {\n",
              "        text-align: right;\n",
              "    }\n",
              "</style>\n",
              "<table border=\"1\" class=\"dataframe\">\n",
              "  <thead>\n",
              "    <tr style=\"text-align: right;\">\n",
              "      <th></th>\n",
              "      <th>cases</th>\n",
              "      <th>cumsum</th>\n",
              "    </tr>\n",
              "  </thead>\n",
              "  <tbody>\n",
              "    <tr>\n",
              "      <th>0</th>\n",
              "      <td>555</td>\n",
              "      <td>555</td>\n",
              "    </tr>\n",
              "    <tr>\n",
              "      <th>1</th>\n",
              "      <td>99</td>\n",
              "      <td>654</td>\n",
              "    </tr>\n",
              "    <tr>\n",
              "      <th>2</th>\n",
              "      <td>287</td>\n",
              "      <td>941</td>\n",
              "    </tr>\n",
              "    <tr>\n",
              "      <th>3</th>\n",
              "      <td>493</td>\n",
              "      <td>1434</td>\n",
              "    </tr>\n",
              "    <tr>\n",
              "      <th>4</th>\n",
              "      <td>684</td>\n",
              "      <td>2118</td>\n",
              "    </tr>\n",
              "  </tbody>\n",
              "</table>\n",
              "</div>"
            ]
          },
          "metadata": {
            "tags": []
          },
          "execution_count": 66
        }
      ]
    },
    {
      "cell_type": "code",
      "metadata": {
        "id": "Og8I0jNtOMg6",
        "outputId": "f78a1480-458e-46c0-f0f9-f4f9a370f433"
      },
      "source": [
        "plt.plot(df2[\"cumsum\"])\n",
        "plt.ylabel(\"Total cases till the date\")\n",
        "plt.xlabel(\"From 22 Jan to 2 May\")\n",
        "plt.title(\"Cases vs Time\")\n",
        "plt.show()"
      ],
      "execution_count": null,
      "outputs": [
        {
          "output_type": "display_data",
          "data": {
            "text/plain": [
              "<Figure size 432x288 with 1 Axes>"
            ],
            "image/png": "[encoded data removed]"
          },
          "metadata": {
            "tags": []
          }
        }
      ]
    },
    {
      "cell_type": "markdown",
      "metadata": {
        "id": "I8VgMsqCOMg7"
      },
      "source": [
        "## China's Analysis Only"
      ]
    },
    {
      "cell_type": "code",
      "metadata": {
        "id": "BH-q5TBOOMg7",
        "outputId": "dfa5570e-490d-4b3b-d60f-bc469ef040b8"
      },
      "source": [
        "df_china = df[df[\"Country.Region\"]==\"China\"]\n",
        "df_china.head()"
      ],
      "execution_count": null,
      "outputs": [
        {
          "output_type": "execute_result",
          "data": {
            "text/plain": [
              "      Province.State Country.Region      Lat      Long       date  cases  \\\n",
              "18972          Anhui          China  31.8257  117.2264 2020-01-22      1   \n",
              "18973          Anhui          China  31.8257  117.2264 2020-01-23      8   \n",
              "18974          Anhui          China  31.8257  117.2264 2020-01-24      6   \n",
              "18975          Anhui          China  31.8257  117.2264 2020-01-25     24   \n",
              "18976          Anhui          China  31.8257  117.2264 2020-01-26     21   \n",
              "\n",
              "            type  \n",
              "18972  confirmed  \n",
              "18973  confirmed  \n",
              "18974  confirmed  \n",
              "18975  confirmed  \n",
              "18976  confirmed  "
            ],
            "text/html": [
              "<div>\n",
              "<style scoped>\n",
              "    .dataframe tbody tr th:only-of-type {\n",
              "        vertical-align: middle;\n",
              "    }\n",
              "\n",
              "    .dataframe tbody tr th {\n",
              "        vertical-align: top;\n",
              "    }\n",
              "\n",
              "    .dataframe thead th {\n",
              "        text-align: right;\n",
              "    }\n",
              "</style>\n",
              "<table border=\"1\" class=\"dataframe\">\n",
              "  <thead>\n",
              "    <tr style=\"text-align: right;\">\n",
              "      <th></th>\n",
              "      <th>Province.State</th>\n",
              "      <th>Country.Region</th>\n",
              "      <th>Lat</th>\n",
              "      <th>Long</th>\n",
              "      <th>date</th>\n",
              "      <th>cases</th>\n",
              "      <th>type</th>\n",
              "    </tr>\n",
              "  </thead>\n",
              "  <tbody>\n",
              "    <tr>\n",
              "      <th>18972</th>\n",
              "      <td>Anhui</td>\n",
              "      <td>China</td>\n",
              "      <td>31.8257</td>\n",
              "      <td>117.2264</td>\n",
              "      <td>2020-01-22</td>\n",
              "      <td>1</td>\n",
              "      <td>confirmed</td>\n",
              "    </tr>\n",
              "    <tr>\n",
              "      <th>18973</th>\n",
              "      <td>Anhui</td>\n",
              "      <td>China</td>\n",
              "      <td>31.8257</td>\n",
              "      <td>117.2264</td>\n",
              "      <td>2020-01-23</td>\n",
              "      <td>8</td>\n",
              "      <td>confirmed</td>\n",
              "    </tr>\n",
              "    <tr>\n",
              "      <th>18974</th>\n",
              "      <td>Anhui</td>\n",
              "      <td>China</td>\n",
              "      <td>31.8257</td>\n",
              "      <td>117.2264</td>\n",
              "      <td>2020-01-24</td>\n",
              "      <td>6</td>\n",
              "      <td>confirmed</td>\n",
              "    </tr>\n",
              "    <tr>\n",
              "      <th>18975</th>\n",
              "      <td>Anhui</td>\n",
              "      <td>China</td>\n",
              "      <td>31.8257</td>\n",
              "      <td>117.2264</td>\n",
              "      <td>2020-01-25</td>\n",
              "      <td>24</td>\n",
              "      <td>confirmed</td>\n",
              "    </tr>\n",
              "    <tr>\n",
              "      <th>18976</th>\n",
              "      <td>Anhui</td>\n",
              "      <td>China</td>\n",
              "      <td>31.8257</td>\n",
              "      <td>117.2264</td>\n",
              "      <td>2020-01-26</td>\n",
              "      <td>21</td>\n",
              "      <td>confirmed</td>\n",
              "    </tr>\n",
              "  </tbody>\n",
              "</table>\n",
              "</div>"
            ]
          },
          "metadata": {
            "tags": []
          },
          "execution_count": 72
        }
      ]
    },
    {
      "cell_type": "code",
      "metadata": {
        "id": "xFjot5D3OMg7",
        "outputId": "8c94eb30-7419-459b-d436-b71319b3057c"
      },
      "source": [
        "df_china_1 = pd.DataFrame(df_china.groupby(\"date\")[\"cases\"].sum())\n",
        "df_china_1.head()"
      ],
      "execution_count": null,
      "outputs": [
        {
          "output_type": "execute_result",
          "data": {
            "text/plain": [
              "            cases\n",
              "date             \n",
              "2020-01-22    593\n",
              "2020-01-23     98\n",
              "2020-01-24    291\n",
              "2020-01-25    505\n",
              "2020-01-26    693"
            ],
            "text/html": [
              "<div>\n",
              "<style scoped>\n",
              "    .dataframe tbody tr th:only-of-type {\n",
              "        vertical-align: middle;\n",
              "    }\n",
              "\n",
              "    .dataframe tbody tr th {\n",
              "        vertical-align: top;\n",
              "    }\n",
              "\n",
              "    .dataframe thead th {\n",
              "        text-align: right;\n",
              "    }\n",
              "</style>\n",
              "<table border=\"1\" class=\"dataframe\">\n",
              "  <thead>\n",
              "    <tr style=\"text-align: right;\">\n",
              "      <th></th>\n",
              "      <th>cases</th>\n",
              "    </tr>\n",
              "    <tr>\n",
              "      <th>date</th>\n",
              "      <th></th>\n",
              "    </tr>\n",
              "  </thead>\n",
              "  <tbody>\n",
              "    <tr>\n",
              "      <th>2020-01-22</th>\n",
              "      <td>593</td>\n",
              "    </tr>\n",
              "    <tr>\n",
              "      <th>2020-01-23</th>\n",
              "      <td>98</td>\n",
              "    </tr>\n",
              "    <tr>\n",
              "      <th>2020-01-24</th>\n",
              "      <td>291</td>\n",
              "    </tr>\n",
              "    <tr>\n",
              "      <th>2020-01-25</th>\n",
              "      <td>505</td>\n",
              "    </tr>\n",
              "    <tr>\n",
              "      <th>2020-01-26</th>\n",
              "      <td>693</td>\n",
              "    </tr>\n",
              "  </tbody>\n",
              "</table>\n",
              "</div>"
            ]
          },
          "metadata": {
            "tags": []
          },
          "execution_count": 73
        }
      ]
    },
    {
      "cell_type": "code",
      "metadata": {
        "id": "QgMcLpv0OMg8"
      },
      "source": [
        "df_china_1.reset_index(drop=True, inplace=True)"
      ],
      "execution_count": null,
      "outputs": []
    },
    {
      "cell_type": "code",
      "metadata": {
        "id": "aVI-WH8POMg8",
        "outputId": "fd29b8bb-0fa2-42af-e907-ab143538386b"
      },
      "source": [
        "df_china_1[\"cumsum\"] = df_china_1[\"cases\"].cumsum()\n",
        "df_china_1.head()"
      ],
      "execution_count": null,
      "outputs": [
        {
          "output_type": "execute_result",
          "data": {
            "text/plain": [
              "   cases  cumsum\n",
              "0    593     593\n",
              "1     98     691\n",
              "2    291     982\n",
              "3    505    1487\n",
              "4    693    2180"
            ],
            "text/html": [
              "<div>\n",
              "<style scoped>\n",
              "    .dataframe tbody tr th:only-of-type {\n",
              "        vertical-align: middle;\n",
              "    }\n",
              "\n",
              "    .dataframe tbody tr th {\n",
              "        vertical-align: top;\n",
              "    }\n",
              "\n",
              "    .dataframe thead th {\n",
              "        text-align: right;\n",
              "    }\n",
              "</style>\n",
              "<table border=\"1\" class=\"dataframe\">\n",
              "  <thead>\n",
              "    <tr style=\"text-align: right;\">\n",
              "      <th></th>\n",
              "      <th>cases</th>\n",
              "      <th>cumsum</th>\n",
              "    </tr>\n",
              "  </thead>\n",
              "  <tbody>\n",
              "    <tr>\n",
              "      <th>0</th>\n",
              "      <td>593</td>\n",
              "      <td>593</td>\n",
              "    </tr>\n",
              "    <tr>\n",
              "      <th>1</th>\n",
              "      <td>98</td>\n",
              "      <td>691</td>\n",
              "    </tr>\n",
              "    <tr>\n",
              "      <th>2</th>\n",
              "      <td>291</td>\n",
              "      <td>982</td>\n",
              "    </tr>\n",
              "    <tr>\n",
              "      <th>3</th>\n",
              "      <td>505</td>\n",
              "      <td>1487</td>\n",
              "    </tr>\n",
              "    <tr>\n",
              "      <th>4</th>\n",
              "      <td>693</td>\n",
              "      <td>2180</td>\n",
              "    </tr>\n",
              "  </tbody>\n",
              "</table>\n",
              "</div>"
            ]
          },
          "metadata": {
            "tags": []
          },
          "execution_count": 75
        }
      ]
    },
    {
      "cell_type": "code",
      "metadata": {
        "id": "3IR-ni4LOMg8",
        "outputId": "b38ca5e3-85ff-445a-f127-543c514d2c69"
      },
      "source": [
        "plt.plot(df_china_1[\"cumsum\"])\n",
        "plt.ylabel(\"Total cases till the date\")\n",
        "plt.xlabel(\"From 22 Jan to 2 May\")\n",
        "plt.title(\"Cases vs Time for CHINA only\")\n",
        "plt.show()"
      ],
      "execution_count": null,
      "outputs": [
        {
          "output_type": "display_data",
          "data": {
            "text/plain": [
              "<Figure size 432x288 with 1 Axes>"
            ],
            "image/png": "[encoded data removed]"
          },
          "metadata": {
            "tags": []
          }
        }
      ]
    },
    {
      "cell_type": "markdown",
      "metadata": {
        "id": "zl2cuxeQOMg9"
      },
      "source": [
        "## World - {China} Analysis"
      ]
    },
    {
      "cell_type": "code",
      "metadata": {
        "id": "RYIm_lXPOMg9",
        "outputId": "2adbecae-f980-43eb-8d29-94e9be7dc8e0"
      },
      "source": [
        "df_world = df[df[\"Country.Region\"]!=\"China\"]\n",
        "df_world.head()"
      ],
      "execution_count": null,
      "outputs": [
        {
          "output_type": "execute_result",
          "data": {
            "text/plain": [
              "  Province.State Country.Region   Lat  Long       date  cases       type\n",
              "0            NaN    Afghanistan  33.0  65.0 2020-01-22      0  confirmed\n",
              "1            NaN    Afghanistan  33.0  65.0 2020-01-23      0  confirmed\n",
              "2            NaN    Afghanistan  33.0  65.0 2020-01-24      0  confirmed\n",
              "3            NaN    Afghanistan  33.0  65.0 2020-01-25      0  confirmed\n",
              "4            NaN    Afghanistan  33.0  65.0 2020-01-26      0  confirmed"
            ],
            "text/html": [
              "<div>\n",
              "<style scoped>\n",
              "    .dataframe tbody tr th:only-of-type {\n",
              "        vertical-align: middle;\n",
              "    }\n",
              "\n",
              "    .dataframe tbody tr th {\n",
              "        vertical-align: top;\n",
              "    }\n",
              "\n",
              "    .dataframe thead th {\n",
              "        text-align: right;\n",
              "    }\n",
              "</style>\n",
              "<table border=\"1\" class=\"dataframe\">\n",
              "  <thead>\n",
              "    <tr style=\"text-align: right;\">\n",
              "      <th></th>\n",
              "      <th>Province.State</th>\n",
              "      <th>Country.Region</th>\n",
              "      <th>Lat</th>\n",
              "      <th>Long</th>\n",
              "      <th>date</th>\n",
              "      <th>cases</th>\n",
              "      <th>type</th>\n",
              "    </tr>\n",
              "  </thead>\n",
              "  <tbody>\n",
              "    <tr>\n",
              "      <th>0</th>\n",
              "      <td>NaN</td>\n",
              "      <td>Afghanistan</td>\n",
              "      <td>33.0</td>\n",
              "      <td>65.0</td>\n",
              "      <td>2020-01-22</td>\n",
              "      <td>0</td>\n",
              "      <td>confirmed</td>\n",
              "    </tr>\n",
              "    <tr>\n",
              "      <th>1</th>\n",
              "      <td>NaN</td>\n",
              "      <td>Afghanistan</td>\n",
              "      <td>33.0</td>\n",
              "      <td>65.0</td>\n",
              "      <td>2020-01-23</td>\n",
              "      <td>0</td>\n",
              "      <td>confirmed</td>\n",
              "    </tr>\n",
              "    <tr>\n",
              "      <th>2</th>\n",
              "      <td>NaN</td>\n",
              "      <td>Afghanistan</td>\n",
              "      <td>33.0</td>\n",
              "      <td>65.0</td>\n",
              "      <td>2020-01-24</td>\n",
              "      <td>0</td>\n",
              "      <td>confirmed</td>\n",
              "    </tr>\n",
              "    <tr>\n",
              "      <th>3</th>\n",
              "      <td>NaN</td>\n",
              "      <td>Afghanistan</td>\n",
              "      <td>33.0</td>\n",
              "      <td>65.0</td>\n",
              "      <td>2020-01-25</td>\n",
              "      <td>0</td>\n",
              "      <td>confirmed</td>\n",
              "    </tr>\n",
              "    <tr>\n",
              "      <th>4</th>\n",
              "      <td>NaN</td>\n",
              "      <td>Afghanistan</td>\n",
              "      <td>33.0</td>\n",
              "      <td>65.0</td>\n",
              "      <td>2020-01-26</td>\n",
              "      <td>0</td>\n",
              "      <td>confirmed</td>\n",
              "    </tr>\n",
              "  </tbody>\n",
              "</table>\n",
              "</div>"
            ]
          },
          "metadata": {
            "tags": []
          },
          "execution_count": 79
        }
      ]
    },
    {
      "cell_type": "code",
      "metadata": {
        "id": "yum418NjOMg9",
        "outputId": "94475e86-e9d1-4a26-d478-bacc0dba9197"
      },
      "source": [
        "df_world_1 = pd.DataFrame(df_world.groupby(\"date\")[\"cases\"].sum())\n",
        "df_world_1.head()"
      ],
      "execution_count": null,
      "outputs": [
        {
          "output_type": "execute_result",
          "data": {
            "text/plain": [
              "            cases\n",
              "date             \n",
              "2020-01-22      7\n",
              "2020-01-23      4\n",
              "2020-01-24     10\n",
              "2020-01-25      7\n",
              "2020-01-26     18"
            ],
            "text/html": [
              "<div>\n",
              "<style scoped>\n",
              "    .dataframe tbody tr th:only-of-type {\n",
              "        vertical-align: middle;\n",
              "    }\n",
              "\n",
              "    .dataframe tbody tr th {\n",
              "        vertical-align: top;\n",
              "    }\n",
              "\n",
              "    .dataframe thead th {\n",
              "        text-align: right;\n",
              "    }\n",
              "</style>\n",
              "<table border=\"1\" class=\"dataframe\">\n",
              "  <thead>\n",
              "    <tr style=\"text-align: right;\">\n",
              "      <th></th>\n",
              "      <th>cases</th>\n",
              "    </tr>\n",
              "    <tr>\n",
              "      <th>date</th>\n",
              "      <th></th>\n",
              "    </tr>\n",
              "  </thead>\n",
              "  <tbody>\n",
              "    <tr>\n",
              "      <th>2020-01-22</th>\n",
              "      <td>7</td>\n",
              "    </tr>\n",
              "    <tr>\n",
              "      <th>2020-01-23</th>\n",
              "      <td>4</td>\n",
              "    </tr>\n",
              "    <tr>\n",
              "      <th>2020-01-24</th>\n",
              "      <td>10</td>\n",
              "    </tr>\n",
              "    <tr>\n",
              "      <th>2020-01-25</th>\n",
              "      <td>7</td>\n",
              "    </tr>\n",
              "    <tr>\n",
              "      <th>2020-01-26</th>\n",
              "      <td>18</td>\n",
              "    </tr>\n",
              "  </tbody>\n",
              "</table>\n",
              "</div>"
            ]
          },
          "metadata": {
            "tags": []
          },
          "execution_count": 81
        }
      ]
    },
    {
      "cell_type": "code",
      "metadata": {
        "id": "gZE4ugdzOMg-"
      },
      "source": [
        "df_world_1.reset_index(drop=True, inplace=True)"
      ],
      "execution_count": null,
      "outputs": []
    },
    {
      "cell_type": "code",
      "metadata": {
        "id": "oLIxbiQ6OMg-",
        "outputId": "0be73ed7-b29d-4748-806c-d10bcbe14b27"
      },
      "source": [
        "df_world_1[\"cumsum\"] = df_world_1[\"cases\"].cumsum()\n",
        "df_world_1.head()"
      ],
      "execution_count": null,
      "outputs": [
        {
          "output_type": "execute_result",
          "data": {
            "text/plain": [
              "   cases  cumsum\n",
              "0      7       7\n",
              "1      4      11\n",
              "2     10      21\n",
              "3      7      28\n",
              "4     18      46"
            ],
            "text/html": [
              "<div>\n",
              "<style scoped>\n",
              "    .dataframe tbody tr th:only-of-type {\n",
              "        vertical-align: middle;\n",
              "    }\n",
              "\n",
              "    .dataframe tbody tr th {\n",
              "        vertical-align: top;\n",
              "    }\n",
              "\n",
              "    .dataframe thead th {\n",
              "        text-align: right;\n",
              "    }\n",
              "</style>\n",
              "<table border=\"1\" class=\"dataframe\">\n",
              "  <thead>\n",
              "    <tr style=\"text-align: right;\">\n",
              "      <th></th>\n",
              "      <th>cases</th>\n",
              "      <th>cumsum</th>\n",
              "    </tr>\n",
              "  </thead>\n",
              "  <tbody>\n",
              "    <tr>\n",
              "      <th>0</th>\n",
              "      <td>7</td>\n",
              "      <td>7</td>\n",
              "    </tr>\n",
              "    <tr>\n",
              "      <th>1</th>\n",
              "      <td>4</td>\n",
              "      <td>11</td>\n",
              "    </tr>\n",
              "    <tr>\n",
              "      <th>2</th>\n",
              "      <td>10</td>\n",
              "      <td>21</td>\n",
              "    </tr>\n",
              "    <tr>\n",
              "      <th>3</th>\n",
              "      <td>7</td>\n",
              "      <td>28</td>\n",
              "    </tr>\n",
              "    <tr>\n",
              "      <th>4</th>\n",
              "      <td>18</td>\n",
              "      <td>46</td>\n",
              "    </tr>\n",
              "  </tbody>\n",
              "</table>\n",
              "</div>"
            ]
          },
          "metadata": {
            "tags": []
          },
          "execution_count": 83
        }
      ]
    },
    {
      "cell_type": "code",
      "metadata": {
        "id": "_wA8m8ViOMg-",
        "outputId": "27c4658f-7acd-45d1-af18-66e7bd0b8851"
      },
      "source": [
        "plt.plot(df_world_1[\"cumsum\"])\n",
        "plt.ylabel(\"Total cases till the date\")\n",
        "plt.xlabel(\"From 22 Jan to 2 May\")\n",
        "plt.title(\"Cases vs Time for WHOLE WORLD except CHINA\")\n",
        "plt.show()"
      ],
      "execution_count": null,
      "outputs": [
        {
          "output_type": "display_data",
          "data": {
            "text/plain": [
              "<Figure size 432x288 with 1 Axes>"
            ],
            "image/png": "[encoded data removed]"
          },
          "metadata": {
            "tags": []
          }
        }
      ]
    },
    {
      "cell_type": "markdown",
      "metadata": {
        "id": "HrmqnaXfOMg_"
      },
      "source": [
        "## Top 10 countries hit hardest by COVID-19"
      ]
    },
    {
      "cell_type": "code",
      "metadata": {
        "id": "6nPO1ldtOMg_",
        "outputId": "68efd0ab-85c8-4af2-fd2b-555a508efec0"
      },
      "source": [
        "df_coun = pd.DataFrame(df1.groupby(\"Country.Region\")[\"cases\"].sum())\n",
        "df_coun.head()"
      ],
      "execution_count": null,
      "outputs": [
        {
          "output_type": "execute_result",
          "data": {
            "text/plain": [
              "                cases\n",
              "Country.Region       \n",
              "Afghanistan      2469\n",
              "Albania           789\n",
              "Algeria          4295\n",
              "Andorra           747\n",
              "Angola             35"
            ],
            "text/html": [
              "<div>\n",
              "<style scoped>\n",
              "    .dataframe tbody tr th:only-of-type {\n",
              "        vertical-align: middle;\n",
              "    }\n",
              "\n",
              "    .dataframe tbody tr th {\n",
              "        vertical-align: top;\n",
              "    }\n",
              "\n",
              "    .dataframe thead th {\n",
              "        text-align: right;\n",
              "    }\n",
              "</style>\n",
              "<table border=\"1\" class=\"dataframe\">\n",
              "  <thead>\n",
              "    <tr style=\"text-align: right;\">\n",
              "      <th></th>\n",
              "      <th>cases</th>\n",
              "    </tr>\n",
              "    <tr>\n",
              "      <th>Country.Region</th>\n",
              "      <th></th>\n",
              "    </tr>\n",
              "  </thead>\n",
              "  <tbody>\n",
              "    <tr>\n",
              "      <th>Afghanistan</th>\n",
              "      <td>2469</td>\n",
              "    </tr>\n",
              "    <tr>\n",
              "      <th>Albania</th>\n",
              "      <td>789</td>\n",
              "    </tr>\n",
              "    <tr>\n",
              "      <th>Algeria</th>\n",
              "      <td>4295</td>\n",
              "    </tr>\n",
              "    <tr>\n",
              "      <th>Andorra</th>\n",
              "      <td>747</td>\n",
              "    </tr>\n",
              "    <tr>\n",
              "      <th>Angola</th>\n",
              "      <td>35</td>\n",
              "    </tr>\n",
              "  </tbody>\n",
              "</table>\n",
              "</div>"
            ]
          },
          "metadata": {
            "tags": []
          },
          "execution_count": 89
        }
      ]
    },
    {
      "cell_type": "code",
      "metadata": {
        "id": "SMRQQt23OMg_",
        "outputId": "6fc3b8a0-4f65-4da9-9043-6638971ff5c9"
      },
      "source": [
        "df_coun_10 = df_coun.sort_values(\"cases\", ascending=False).head(10)\n",
        "df_coun_10"
      ],
      "execution_count": null,
      "outputs": [
        {
          "output_type": "execute_result",
          "data": {
            "text/plain": [
              "                  cases\n",
              "Country.Region         \n",
              "US              1132539\n",
              "Spain            216582\n",
              "Italy            209328\n",
              "United Kingdom   183500\n",
              "France           168518\n",
              "Germany          164967\n",
              "Turkey           124375\n",
              "Russia           124054\n",
              "Brazil            97100\n",
              "Iran              96448"
            ],
            "text/html": [
              "<div>\n",
              "<style scoped>\n",
              "    .dataframe tbody tr th:only-of-type {\n",
              "        vertical-align: middle;\n",
              "    }\n",
              "\n",
              "    .dataframe tbody tr th {\n",
              "        vertical-align: top;\n",
              "    }\n",
              "\n",
              "    .dataframe thead th {\n",
              "        text-align: right;\n",
              "    }\n",
              "</style>\n",
              "<table border=\"1\" class=\"dataframe\">\n",
              "  <thead>\n",
              "    <tr style=\"text-align: right;\">\n",
              "      <th></th>\n",
              "      <th>cases</th>\n",
              "    </tr>\n",
              "    <tr>\n",
              "      <th>Country.Region</th>\n",
              "      <th></th>\n",
              "    </tr>\n",
              "  </thead>\n",
              "  <tbody>\n",
              "    <tr>\n",
              "      <th>US</th>\n",
              "      <td>1132539</td>\n",
              "    </tr>\n",
              "    <tr>\n",
              "      <th>Spain</th>\n",
              "      <td>216582</td>\n",
              "    </tr>\n",
              "    <tr>\n",
              "      <th>Italy</th>\n",
              "      <td>209328</td>\n",
              "    </tr>\n",
              "    <tr>\n",
              "      <th>United Kingdom</th>\n",
              "      <td>183500</td>\n",
              "    </tr>\n",
              "    <tr>\n",
              "      <th>France</th>\n",
              "      <td>168518</td>\n",
              "    </tr>\n",
              "    <tr>\n",
              "      <th>Germany</th>\n",
              "      <td>164967</td>\n",
              "    </tr>\n",
              "    <tr>\n",
              "      <th>Turkey</th>\n",
              "      <td>124375</td>\n",
              "    </tr>\n",
              "    <tr>\n",
              "      <th>Russia</th>\n",
              "      <td>124054</td>\n",
              "    </tr>\n",
              "    <tr>\n",
              "      <th>Brazil</th>\n",
              "      <td>97100</td>\n",
              "    </tr>\n",
              "    <tr>\n",
              "      <th>Iran</th>\n",
              "      <td>96448</td>\n",
              "    </tr>\n",
              "  </tbody>\n",
              "</table>\n",
              "</div>"
            ]
          },
          "metadata": {
            "tags": []
          },
          "execution_count": 94
        }
      ]
    },
    {
      "cell_type": "code",
      "metadata": {
        "id": "howw4WkVOMg_",
        "outputId": "6ffd91be-a314-4d9a-bc2b-c4b2b7114a62"
      },
      "source": [
        "coun_10 = df_coun_10.index.tolist()\n",
        "print(\"Top 10 countries hit hardest\",coun_10)"
      ],
      "execution_count": null,
      "outputs": [
        {
          "output_type": "stream",
          "text": [
            "Top 10 countries hit hardest ['US', 'Spain', 'Italy', 'United Kingdom', 'France', 'Germany', 'Turkey', 'Russia', 'Brazil', 'Iran']\n"
          ],
          "name": "stdout"
        }
      ]
    },
    {
      "cell_type": "code",
      "metadata": {
        "id": "xMdCv_IROMhA",
        "outputId": "ac5f24b6-4be1-47bf-8c08-d1b59cf16792"
      },
      "source": [
        "for coun in coun_10:\n",
        "    df_country = df[df[\"Country.Region\"]==coun]\n",
        "    print(coun)\n",
        "    df1 = pd.DataFrame(df_country.groupby(\"date\")[\"cases\"].sum())\n",
        "    df1.reset_index(drop=True, inplace=True)\n",
        "    df1[\"cumsum\"] = df1[\"cases\"].cumsum()\n",
        "    plt.plot(df1[\"cumsum\"])\n",
        "    plt.ylabel(\"Total cases till the date\")\n",
        "    plt.xlabel(\"From 22 Jan to 2 May\")\n",
        "    plt.title(\"Cases vs Time\")\n",
        "    plt.show()\n",
        "    print('\\n')\n",
        "    "
      ],
      "execution_count": null,
      "outputs": [
        {
          "output_type": "stream",
          "text": [
            "US\n"
          ],
          "name": "stdout"
        },
        {
          "output_type": "display_data",
          "data": {
            "text/plain": [
              "<Figure size 432x288 with 1 Axes>"
            ],
            "image/png": "[encoded data removed]"
          },
          "metadata": {
            "tags": []
          }
        },
        {
          "output_type": "stream",
          "text": [
            "\n",
            "\n",
            "Spain\n"
          ],
          "name": "stdout"
        },
        {
          "output_type": "display_data",
          "data": {
            "text/plain": [
              "<Figure size 432x288 with 1 Axes>"
            ],
            "image/png": "[encoded data removed]"
          },
          "metadata": {
            "tags": []
          }
        },
        {
          "output_type": "stream",
          "text": [
            "\n",
            "\n",
            "Italy\n"
          ],
          "name": "stdout"
        },
        {
          "output_type": "display_data",
          "data": {
            "text/plain": [
              "<Figure size 432x288 with 1 Axes>"
            ],
            "image/png": "[encoded data removed]"
          },
          "metadata": {
            "tags": []
          }
        },
        {
          "output_type": "stream",
          "text": [
            "\n",
            "\n",
            "United Kingdom\n"
          ],
          "name": "stdout"
        },
        {
          "output_type": "display_data",
          "data": {
            "text/plain": [
              "<Figure size 432x288 with 1 Axes>"
            ],
            "image/png": "[encoded data removed]"
          },
          "metadata": {
            "tags": []
          }
        },
        {
          "output_type": "stream",
          "text": [
            "\n",
            "\n",
            "France\n"
          ],
          "name": "stdout"
        },
        {
          "output_type": "display_data",
          "data": {
            "text/plain": [
              "<Figure size 432x288 with 1 Axes>"
            ],
            "image/png": "[encoded data removed]"
          },
          "metadata": {
            "tags": []
          }
        },
        {
          "output_type": "stream",
          "text": [
            "\n",
            "\n",
            "Germany\n"
          ],
          "name": "stdout"
        },
        {
          "output_type": "display_data",
          "data": {
            "text/plain": [
              "<Figure size 432x288 with 1 Axes>"
            ],
            "image/png": "[encoded data removed]"
          },
          "metadata": {
            "tags": []
          }
        },
        {
          "output_type": "stream",
          "text": [
            "\n",
            "\n",
            "Turkey\n"
          ],
          "name": "stdout"
        },
        {
          "output_type": "display_data",
          "data": {
            "text/plain": [
              "<Figure size 432x288 with 1 Axes>"
            ],
            "image/png": "[encoded data removed]"
          },
          "metadata": {
            "tags": []
          }
        },
        {
          "output_type": "stream",
          "text": [
            "\n",
            "\n",
            "Russia\n"
          ],
          "name": "stdout"
        },
        {
          "output_type": "display_data",
          "data": {
            "text/plain": [
              "<Figure size 432x288 with 1 Axes>"
            ],
            "image/png": "[encoded data removed]"
          },
          "metadata": {
            "tags": []
          }
        },
        {
          "output_type": "stream",
          "text": [
            "\n",
            "\n",
            "Brazil\n"
          ],
          "name": "stdout"
        },
        {
          "output_type": "display_data",
          "data": {
            "text/plain": [
              "<Figure size 432x288 with 1 Axes>"
            ],
            "image/png": "[encoded data removed]"
          },
          "metadata": {
            "tags": []
          }
        },
        {
          "output_type": "stream",
          "text": [
            "\n",
            "\n",
            "Iran\n"
          ],
          "name": "stdout"
        },
        {
          "output_type": "display_data",
          "data": {
            "text/plain": [
              "<Figure size 432x288 with 1 Axes>"
            ],
            "image/png": "[encoded data removed]"
          },
          "metadata": {
            "tags": []
          }
        },
        {
          "output_type": "stream",
          "text": [
            "\n",
            "\n"
          ],
          "name": "stdout"
        }
      ]
    },
    {
      "cell_type": "code",
      "metadata": {
        "id": "UC5DkmN4OMhA"
      },
      "source": [
        ""
      ],
      "execution_count": null,
      "outputs": []
    }
  ]
}