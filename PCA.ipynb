{
  "nbformat": 4,
  "nbformat_minor": 0,
  "metadata": {
    "colab": {
      "name": "PCA.ipynb",
      "provenance": [],
      "authorship_tag": "ABX9TyOLcRIbPgeF3ERAUcuo/7Ni",
      "include_colab_link": true
    },
    "kernelspec": {
      "name": "python3",
      "display_name": "Python 3"
    },
    "language_info": {
      "name": "python"
    }
  },
  "cells": [
    {
      "cell_type": "markdown",
      "metadata": {
        "id": "view-in-github",
        "colab_type": "text"
      },
      "source": [
        "<a href=\"https://colab.research.google.com/github/umang-algo/plaksha_projects/blob/main/PCA.ipynb\" target=\"_parent\"><img src=\"https://colab.research.google.com/assets/colab-badge.svg\" alt=\"Open In Colab\"/></a>"
      ]
    },
    {
      "cell_type": "code",
      "metadata": {
        "id": "spUZ0BOwGwje"
      },
      "source": [
        "import pandas as pd\n",
        "url = \"https://archive.ics.uci.edu/ml/machine-learning-databases/iris/iris.data\"\n",
        "# load dataset into Pandas DataFrame\n",
        "df = pd.read_csv(url, names=['sepal length','sepal width','petal length','petal width','target'])"
      ],
      "execution_count": null,
      "outputs": []
    },
    {
      "cell_type": "code",
      "metadata": {
        "colab": {
          "base_uri": "https://localhost:8080/",
          "height": 297
        },
        "id": "DR_TIhuYG9et",
        "outputId": "deb15ab4-1d13-4e6c-f45e-80517904d3ce"
      },
      "source": [
        "df.describe()"
      ],
      "execution_count": null,
      "outputs": [
        {
          "output_type": "execute_result",
          "data": {
            "text/html": [
              "<div>\n",
              "<style scoped>\n",
              "    .dataframe tbody tr th:only-of-type {\n",
              "        vertical-align: middle;\n",
              "    }\n",
              "\n",
              "    .dataframe tbody tr th {\n",
              "        vertical-align: top;\n",
              "    }\n",
              "\n",
              "    .dataframe thead th {\n",
              "        text-align: right;\n",
              "    }\n",
              "</style>\n",
              "<table border=\"1\" class=\"dataframe\">\n",
              "  <thead>\n",
              "    <tr style=\"text-align: right;\">\n",
              "      <th></th>\n",
              "      <th>sepal length</th>\n",
              "      <th>sepal width</th>\n",
              "      <th>petal length</th>\n",
              "      <th>petal width</th>\n",
              "    </tr>\n",
              "  </thead>\n",
              "  <tbody>\n",
              "    <tr>\n",
              "      <th>count</th>\n",
              "      <td>150.000000</td>\n",
              "      <td>150.000000</td>\n",
              "      <td>150.000000</td>\n",
              "      <td>150.000000</td>\n",
              "    </tr>\n",
              "    <tr>\n",
              "      <th>mean</th>\n",
              "      <td>5.843333</td>\n",
              "      <td>3.054000</td>\n",
              "      <td>3.758667</td>\n",
              "      <td>1.198667</td>\n",
              "    </tr>\n",
              "    <tr>\n",
              "      <th>std</th>\n",
              "      <td>0.828066</td>\n",
              "      <td>0.433594</td>\n",
              "      <td>1.764420</td>\n",
              "      <td>0.763161</td>\n",
              "    </tr>\n",
              "    <tr>\n",
              "      <th>min</th>\n",
              "      <td>4.300000</td>\n",
              "      <td>2.000000</td>\n",
              "      <td>1.000000</td>\n",
              "      <td>0.100000</td>\n",
              "    </tr>\n",
              "    <tr>\n",
              "      <th>25%</th>\n",
              "      <td>5.100000</td>\n",
              "      <td>2.800000</td>\n",
              "      <td>1.600000</td>\n",
              "      <td>0.300000</td>\n",
              "    </tr>\n",
              "    <tr>\n",
              "      <th>50%</th>\n",
              "      <td>5.800000</td>\n",
              "      <td>3.000000</td>\n",
              "      <td>4.350000</td>\n",
              "      <td>1.300000</td>\n",
              "    </tr>\n",
              "    <tr>\n",
              "      <th>75%</th>\n",
              "      <td>6.400000</td>\n",
              "      <td>3.300000</td>\n",
              "      <td>5.100000</td>\n",
              "      <td>1.800000</td>\n",
              "    </tr>\n",
              "    <tr>\n",
              "      <th>max</th>\n",
              "      <td>7.900000</td>\n",
              "      <td>4.400000</td>\n",
              "      <td>6.900000</td>\n",
              "      <td>2.500000</td>\n",
              "    </tr>\n",
              "  </tbody>\n",
              "</table>\n",
              "</div>"
            ],
            "text/plain": [
              "       sepal length  sepal width  petal length  petal width\n",
              "count    150.000000   150.000000    150.000000   150.000000\n",
              "mean       5.843333     3.054000      3.758667     1.198667\n",
              "std        0.828066     0.433594      1.764420     0.763161\n",
              "min        4.300000     2.000000      1.000000     0.100000\n",
              "25%        5.100000     2.800000      1.600000     0.300000\n",
              "50%        5.800000     3.000000      4.350000     1.300000\n",
              "75%        6.400000     3.300000      5.100000     1.800000\n",
              "max        7.900000     4.400000      6.900000     2.500000"
            ]
          },
          "metadata": {
            "tags": []
          },
          "execution_count": 4
        }
      ]
    },
    {
      "cell_type": "code",
      "metadata": {
        "id": "rRjGEBmYG1Wb"
      },
      "source": [
        "from sklearn.preprocessing import StandardScaler\n",
        "features = ['sepal length', 'sepal width', 'petal length', 'petal width']\n",
        "# Separating out the features\n",
        "x = df.loc[:, features].values\n",
        "# Separating out the target\n",
        "y = df.loc[:,['target']].values\n",
        "# Standardizing the features\n",
        "x = StandardScaler().fit_transform(x)"
      ],
      "execution_count": null,
      "outputs": []
    },
    {
      "cell_type": "code",
      "metadata": {
        "id": "TVU3O6XVG676"
      },
      "source": [
        "from sklearn.decomposition import PCA\n",
        "pca = PCA(n_components=2)\n",
        "principalComponents = pca.fit_transform(x)\n",
        "principalDf = pd.DataFrame(data = principalComponents\n",
        "             , columns = ['principal component 1', 'principal component 2'])"
      ],
      "execution_count": null,
      "outputs": []
    },
    {
      "cell_type": "code",
      "metadata": {
        "colab": {
          "base_uri": "https://localhost:8080/",
          "height": 419
        },
        "id": "g_fLn7bSH2Sl",
        "outputId": "b619f3f7-6eca-4227-a910-de1db31b3b9b"
      },
      "source": [
        "principalDf"
      ],
      "execution_count": null,
      "outputs": [
        {
          "output_type": "execute_result",
          "data": {
            "text/html": [
              "<div>\n",
              "<style scoped>\n",
              "    .dataframe tbody tr th:only-of-type {\n",
              "        vertical-align: middle;\n",
              "    }\n",
              "\n",
              "    .dataframe tbody tr th {\n",
              "        vertical-align: top;\n",
              "    }\n",
              "\n",
              "    .dataframe thead th {\n",
              "        text-align: right;\n",
              "    }\n",
              "</style>\n",
              "<table border=\"1\" class=\"dataframe\">\n",
              "  <thead>\n",
              "    <tr style=\"text-align: right;\">\n",
              "      <th></th>\n",
              "      <th>principal component 1</th>\n",
              "      <th>principal component 2</th>\n",
              "    </tr>\n",
              "  </thead>\n",
              "  <tbody>\n",
              "    <tr>\n",
              "      <th>0</th>\n",
              "      <td>-2.264542</td>\n",
              "      <td>0.505704</td>\n",
              "    </tr>\n",
              "    <tr>\n",
              "      <th>1</th>\n",
              "      <td>-2.086426</td>\n",
              "      <td>-0.655405</td>\n",
              "    </tr>\n",
              "    <tr>\n",
              "      <th>2</th>\n",
              "      <td>-2.367950</td>\n",
              "      <td>-0.318477</td>\n",
              "    </tr>\n",
              "    <tr>\n",
              "      <th>3</th>\n",
              "      <td>-2.304197</td>\n",
              "      <td>-0.575368</td>\n",
              "    </tr>\n",
              "    <tr>\n",
              "      <th>4</th>\n",
              "      <td>-2.388777</td>\n",
              "      <td>0.674767</td>\n",
              "    </tr>\n",
              "    <tr>\n",
              "      <th>...</th>\n",
              "      <td>...</td>\n",
              "      <td>...</td>\n",
              "    </tr>\n",
              "    <tr>\n",
              "      <th>145</th>\n",
              "      <td>1.870522</td>\n",
              "      <td>0.382822</td>\n",
              "    </tr>\n",
              "    <tr>\n",
              "      <th>146</th>\n",
              "      <td>1.558492</td>\n",
              "      <td>-0.905314</td>\n",
              "    </tr>\n",
              "    <tr>\n",
              "      <th>147</th>\n",
              "      <td>1.520845</td>\n",
              "      <td>0.266795</td>\n",
              "    </tr>\n",
              "    <tr>\n",
              "      <th>148</th>\n",
              "      <td>1.376391</td>\n",
              "      <td>1.016362</td>\n",
              "    </tr>\n",
              "    <tr>\n",
              "      <th>149</th>\n",
              "      <td>0.959299</td>\n",
              "      <td>-0.022284</td>\n",
              "    </tr>\n",
              "  </tbody>\n",
              "</table>\n",
              "<p>150 rows × 2 columns</p>\n",
              "</div>"
            ],
            "text/plain": [
              "     principal component 1  principal component 2\n",
              "0                -2.264542               0.505704\n",
              "1                -2.086426              -0.655405\n",
              "2                -2.367950              -0.318477\n",
              "3                -2.304197              -0.575368\n",
              "4                -2.388777               0.674767\n",
              "..                     ...                    ...\n",
              "145               1.870522               0.382822\n",
              "146               1.558492              -0.905314\n",
              "147               1.520845               0.266795\n",
              "148               1.376391               1.016362\n",
              "149               0.959299              -0.022284\n",
              "\n",
              "[150 rows x 2 columns]"
            ]
          },
          "metadata": {
            "tags": []
          },
          "execution_count": 9
        }
      ]
    },
    {
      "cell_type": "code",
      "metadata": {
        "id": "HViQ9WyUH4Z6"
      },
      "source": [
        "finalDf = pd.concat([principalDf, df[['target']]], axis = 1)"
      ],
      "execution_count": null,
      "outputs": []
    },
    {
      "cell_type": "code",
      "metadata": {
        "colab": {
          "base_uri": "https://localhost:8080/",
          "height": 419
        },
        "id": "NWbCNHHiH9RK",
        "outputId": "7054295a-0eca-4573-84b9-17e0416534b8"
      },
      "source": [
        "finalDf"
      ],
      "execution_count": null,
      "outputs": [
        {
          "output_type": "execute_result",
          "data": {
            "text/html": [
              "<div>\n",
              "<style scoped>\n",
              "    .dataframe tbody tr th:only-of-type {\n",
              "        vertical-align: middle;\n",
              "    }\n",
              "\n",
              "    .dataframe tbody tr th {\n",
              "        vertical-align: top;\n",
              "    }\n",
              "\n",
              "    .dataframe thead th {\n",
              "        text-align: right;\n",
              "    }\n",
              "</style>\n",
              "<table border=\"1\" class=\"dataframe\">\n",
              "  <thead>\n",
              "    <tr style=\"text-align: right;\">\n",
              "      <th></th>\n",
              "      <th>principal component 1</th>\n",
              "      <th>principal component 2</th>\n",
              "      <th>target</th>\n",
              "    </tr>\n",
              "  </thead>\n",
              "  <tbody>\n",
              "    <tr>\n",
              "      <th>0</th>\n",
              "      <td>-2.264542</td>\n",
              "      <td>0.505704</td>\n",
              "      <td>Iris-setosa</td>\n",
              "    </tr>\n",
              "    <tr>\n",
              "      <th>1</th>\n",
              "      <td>-2.086426</td>\n",
              "      <td>-0.655405</td>\n",
              "      <td>Iris-setosa</td>\n",
              "    </tr>\n",
              "    <tr>\n",
              "      <th>2</th>\n",
              "      <td>-2.367950</td>\n",
              "      <td>-0.318477</td>\n",
              "      <td>Iris-setosa</td>\n",
              "    </tr>\n",
              "    <tr>\n",
              "      <th>3</th>\n",
              "      <td>-2.304197</td>\n",
              "      <td>-0.575368</td>\n",
              "      <td>Iris-setosa</td>\n",
              "    </tr>\n",
              "    <tr>\n",
              "      <th>4</th>\n",
              "      <td>-2.388777</td>\n",
              "      <td>0.674767</td>\n",
              "      <td>Iris-setosa</td>\n",
              "    </tr>\n",
              "    <tr>\n",
              "      <th>...</th>\n",
              "      <td>...</td>\n",
              "      <td>...</td>\n",
              "      <td>...</td>\n",
              "    </tr>\n",
              "    <tr>\n",
              "      <th>145</th>\n",
              "      <td>1.870522</td>\n",
              "      <td>0.382822</td>\n",
              "      <td>Iris-virginica</td>\n",
              "    </tr>\n",
              "    <tr>\n",
              "      <th>146</th>\n",
              "      <td>1.558492</td>\n",
              "      <td>-0.905314</td>\n",
              "      <td>Iris-virginica</td>\n",
              "    </tr>\n",
              "    <tr>\n",
              "      <th>147</th>\n",
              "      <td>1.520845</td>\n",
              "      <td>0.266795</td>\n",
              "      <td>Iris-virginica</td>\n",
              "    </tr>\n",
              "    <tr>\n",
              "      <th>148</th>\n",
              "      <td>1.376391</td>\n",
              "      <td>1.016362</td>\n",
              "      <td>Iris-virginica</td>\n",
              "    </tr>\n",
              "    <tr>\n",
              "      <th>149</th>\n",
              "      <td>0.959299</td>\n",
              "      <td>-0.022284</td>\n",
              "      <td>Iris-virginica</td>\n",
              "    </tr>\n",
              "  </tbody>\n",
              "</table>\n",
              "<p>150 rows × 3 columns</p>\n",
              "</div>"
            ],
            "text/plain": [
              "     principal component 1  principal component 2          target\n",
              "0                -2.264542               0.505704     Iris-setosa\n",
              "1                -2.086426              -0.655405     Iris-setosa\n",
              "2                -2.367950              -0.318477     Iris-setosa\n",
              "3                -2.304197              -0.575368     Iris-setosa\n",
              "4                -2.388777               0.674767     Iris-setosa\n",
              "..                     ...                    ...             ...\n",
              "145               1.870522               0.382822  Iris-virginica\n",
              "146               1.558492              -0.905314  Iris-virginica\n",
              "147               1.520845               0.266795  Iris-virginica\n",
              "148               1.376391               1.016362  Iris-virginica\n",
              "149               0.959299              -0.022284  Iris-virginica\n",
              "\n",
              "[150 rows x 3 columns]"
            ]
          },
          "metadata": {
            "tags": []
          },
          "execution_count": 11
        }
      ]
    },
    {
      "cell_type": "code",
      "metadata": {
        "colab": {
          "base_uri": "https://localhost:8080/"
        },
        "id": "Q4OaA-ItH_Ub",
        "outputId": "2b064b35-b423-4f72-d249-2b2cd6728750"
      },
      "source": [
        "pca.explained_variance_ratio_"
      ],
      "execution_count": null,
      "outputs": [
        {
          "output_type": "execute_result",
          "data": {
            "text/plain": [
              "array([0.72770452, 0.23030523])"
            ]
          },
          "metadata": {
            "tags": []
          },
          "execution_count": 12
        }
      ]
    },
    {
      "cell_type": "code",
      "metadata": {
        "id": "pTuPtVsuICtN"
      },
      "source": [
        "train_x = finalDf.iloc[:,:-1]"
      ],
      "execution_count": null,
      "outputs": []
    },
    {
      "cell_type": "code",
      "metadata": {
        "colab": {
          "base_uri": "https://localhost:8080/",
          "height": 419
        },
        "id": "IpQpHH_kIV7z",
        "outputId": "1d7344d1-2e62-4e90-9696-e8d118cfd17b"
      },
      "source": [
        "train_x"
      ],
      "execution_count": null,
      "outputs": [
        {
          "output_type": "execute_result",
          "data": {
            "text/html": [
              "<div>\n",
              "<style scoped>\n",
              "    .dataframe tbody tr th:only-of-type {\n",
              "        vertical-align: middle;\n",
              "    }\n",
              "\n",
              "    .dataframe tbody tr th {\n",
              "        vertical-align: top;\n",
              "    }\n",
              "\n",
              "    .dataframe thead th {\n",
              "        text-align: right;\n",
              "    }\n",
              "</style>\n",
              "<table border=\"1\" class=\"dataframe\">\n",
              "  <thead>\n",
              "    <tr style=\"text-align: right;\">\n",
              "      <th></th>\n",
              "      <th>principal component 1</th>\n",
              "      <th>principal component 2</th>\n",
              "    </tr>\n",
              "  </thead>\n",
              "  <tbody>\n",
              "    <tr>\n",
              "      <th>0</th>\n",
              "      <td>-2.264542</td>\n",
              "      <td>0.505704</td>\n",
              "    </tr>\n",
              "    <tr>\n",
              "      <th>1</th>\n",
              "      <td>-2.086426</td>\n",
              "      <td>-0.655405</td>\n",
              "    </tr>\n",
              "    <tr>\n",
              "      <th>2</th>\n",
              "      <td>-2.367950</td>\n",
              "      <td>-0.318477</td>\n",
              "    </tr>\n",
              "    <tr>\n",
              "      <th>3</th>\n",
              "      <td>-2.304197</td>\n",
              "      <td>-0.575368</td>\n",
              "    </tr>\n",
              "    <tr>\n",
              "      <th>4</th>\n",
              "      <td>-2.388777</td>\n",
              "      <td>0.674767</td>\n",
              "    </tr>\n",
              "    <tr>\n",
              "      <th>...</th>\n",
              "      <td>...</td>\n",
              "      <td>...</td>\n",
              "    </tr>\n",
              "    <tr>\n",
              "      <th>145</th>\n",
              "      <td>1.870522</td>\n",
              "      <td>0.382822</td>\n",
              "    </tr>\n",
              "    <tr>\n",
              "      <th>146</th>\n",
              "      <td>1.558492</td>\n",
              "      <td>-0.905314</td>\n",
              "    </tr>\n",
              "    <tr>\n",
              "      <th>147</th>\n",
              "      <td>1.520845</td>\n",
              "      <td>0.266795</td>\n",
              "    </tr>\n",
              "    <tr>\n",
              "      <th>148</th>\n",
              "      <td>1.376391</td>\n",
              "      <td>1.016362</td>\n",
              "    </tr>\n",
              "    <tr>\n",
              "      <th>149</th>\n",
              "      <td>0.959299</td>\n",
              "      <td>-0.022284</td>\n",
              "    </tr>\n",
              "  </tbody>\n",
              "</table>\n",
              "<p>150 rows × 2 columns</p>\n",
              "</div>"
            ],
            "text/plain": [
              "     principal component 1  principal component 2\n",
              "0                -2.264542               0.505704\n",
              "1                -2.086426              -0.655405\n",
              "2                -2.367950              -0.318477\n",
              "3                -2.304197              -0.575368\n",
              "4                -2.388777               0.674767\n",
              "..                     ...                    ...\n",
              "145               1.870522               0.382822\n",
              "146               1.558492              -0.905314\n",
              "147               1.520845               0.266795\n",
              "148               1.376391               1.016362\n",
              "149               0.959299              -0.022284\n",
              "\n",
              "[150 rows x 2 columns]"
            ]
          },
          "metadata": {
            "tags": []
          },
          "execution_count": 18
        }
      ]
    },
    {
      "cell_type": "code",
      "metadata": {
        "id": "JuGM3BfeK--d"
      },
      "source": [
        "from sklearn.datasets import fetch_openml\n",
        "mnist = fetch_openml('mnist_784')"
      ],
      "execution_count": null,
      "outputs": []
    },
    {
      "cell_type": "code",
      "metadata": {
        "id": "m4eOJT_1LbgQ"
      },
      "source": [
        "from sklearn.model_selection import train_test_split\n",
        "# test_size: what proportion of original data is used for test set\n",
        "train_img, test_img, train_lbl, test_lbl = train_test_split( mnist.data, mnist.target, test_size=1/7.0, random_state=0)"
      ],
      "execution_count": null,
      "outputs": []
    },
    {
      "cell_type": "code",
      "metadata": {
        "id": "U42hxiBtLfic"
      },
      "source": [
        "from sklearn.preprocessing import StandardScaler\n",
        "scaler = StandardScaler()\n",
        "# Fit on training set only.\n",
        "scaler.fit(train_img)\n",
        "# Apply transform to both the training set and the test set.\n",
        "train_img = scaler.transform(train_img)\n",
        "test_img = scaler.transform(test_img)"
      ],
      "execution_count": null,
      "outputs": []
    },
    {
      "cell_type": "code",
      "metadata": {
        "id": "k4QljMRMLsmq"
      },
      "source": [
        "from sklearn.decomposition import PCA\n",
        "# Make an instance of the Model\n",
        "pca = PCA(.95)"
      ],
      "execution_count": null,
      "outputs": []
    },
    {
      "cell_type": "code",
      "metadata": {
        "colab": {
          "base_uri": "https://localhost:8080/"
        },
        "id": "uXfgNnkbL3ay",
        "outputId": "1c7393bf-f7b4-4cb3-e950-395feffad345"
      },
      "source": [
        "pca.fit(train_img)"
      ],
      "execution_count": null,
      "outputs": [
        {
          "output_type": "execute_result",
          "data": {
            "text/plain": [
              "PCA(copy=True, iterated_power='auto', n_components=0.95, random_state=None,\n",
              "    svd_solver='auto', tol=0.0, whiten=False)"
            ]
          },
          "metadata": {
            "tags": []
          },
          "execution_count": 28
        }
      ]
    },
    {
      "cell_type": "code",
      "metadata": {
        "id": "6YBo3yxWLv9L"
      },
      "source": [
        "train_img = pca.transform(train_img)\n",
        "test_img = pca.transform(test_img)"
      ],
      "execution_count": null,
      "outputs": []
    },
    {
      "cell_type": "code",
      "metadata": {
        "id": "CuTWiZJ_Lys3"
      },
      "source": [
        "from sklearn.linear_model import LogisticRegression\n"
      ],
      "execution_count": null,
      "outputs": []
    },
    {
      "cell_type": "code",
      "metadata": {
        "id": "k58goew-MfY4"
      },
      "source": [
        "# all parameters not specified are set to their defaults\n",
        "# default solver is incredibly slow which is why it was changed to 'lbfgs'\n",
        "logisticRegr = LogisticRegression(solver = 'lbfgs')"
      ],
      "execution_count": null,
      "outputs": []
    },
    {
      "cell_type": "code",
      "metadata": {
        "colab": {
          "base_uri": "https://localhost:8080/"
        },
        "id": "2UAb2-JHMkBK",
        "outputId": "9265263e-ef53-4d2d-e5e2-8cad3115e881"
      },
      "source": [
        "logisticRegr.fit(train_img, train_lbl)\n"
      ],
      "execution_count": null,
      "outputs": [
        {
          "output_type": "stream",
          "text": [
            "/usr/local/lib/python3.7/dist-packages/sklearn/linear_model/_logistic.py:940: ConvergenceWarning: lbfgs failed to converge (status=1):\n",
            "STOP: TOTAL NO. of ITERATIONS REACHED LIMIT.\n",
            "\n",
            "Increase the number of iterations (max_iter) or scale the data as shown in:\n",
            "    https://scikit-learn.org/stable/modules/preprocessing.html\n",
            "Please also refer to the documentation for alternative solver options:\n",
            "    https://scikit-learn.org/stable/modules/linear_model.html#logistic-regression\n",
            "  extra_warning_msg=_LOGISTIC_SOLVER_CONVERGENCE_MSG)\n"
          ],
          "name": "stderr"
        },
        {
          "output_type": "execute_result",
          "data": {
            "text/plain": [
              "LogisticRegression(C=1.0, class_weight=None, dual=False, fit_intercept=True,\n",
              "                   intercept_scaling=1, l1_ratio=None, max_iter=100,\n",
              "                   multi_class='auto', n_jobs=None, penalty='l2',\n",
              "                   random_state=None, solver='lbfgs', tol=0.0001, verbose=0,\n",
              "                   warm_start=False)"
            ]
          },
          "metadata": {
            "tags": []
          },
          "execution_count": 32
        }
      ]
    },
    {
      "cell_type": "code",
      "metadata": {
        "colab": {
          "base_uri": "https://localhost:8080/"
        },
        "id": "WZC95ylIMmyz",
        "outputId": "d35e5e01-b1a3-4b4c-e7f2-8ed85396f520"
      },
      "source": [
        "# Predict for One Observation (image)\n",
        "logisticRegr.predict(test_img[0].reshape(1,-1))"
      ],
      "execution_count": null,
      "outputs": [
        {
          "output_type": "execute_result",
          "data": {
            "text/plain": [
              "array(['0'], dtype=object)"
            ]
          },
          "metadata": {
            "tags": []
          },
          "execution_count": 33
        }
      ]
    },
    {
      "cell_type": "code",
      "metadata": {
        "colab": {
          "base_uri": "https://localhost:8080/"
        },
        "id": "RVB5qFSnMvWg",
        "outputId": "3a1a4558-079d-410c-b4ce-d130e014b682"
      },
      "source": [
        "# Predict for One Observation (image)\n",
        "logisticRegr.predict(test_img[0:10])"
      ],
      "execution_count": null,
      "outputs": [
        {
          "output_type": "execute_result",
          "data": {
            "text/plain": [
              "array(['0', '4', '1', '2', '4', '7', '7', '1', '1', '7'], dtype=object)"
            ]
          },
          "metadata": {
            "tags": []
          },
          "execution_count": 34
        }
      ]
    },
    {
      "cell_type": "code",
      "metadata": {
        "colab": {
          "base_uri": "https://localhost:8080/"
        },
        "id": "oafERIniMzM3",
        "outputId": "16656da8-b828-4a7b-887a-35f908f8e9f3"
      },
      "source": [
        "logisticRegr.score(test_img, test_lbl)"
      ],
      "execution_count": null,
      "outputs": [
        {
          "output_type": "execute_result",
          "data": {
            "text/plain": [
              "0.9201"
            ]
          },
          "metadata": {
            "tags": []
          },
          "execution_count": 35
        }
      ]
    },
    {
      "cell_type": "code",
      "metadata": {
        "colab": {
          "base_uri": "https://localhost:8080/"
        },
        "id": "l9Bfl-VmNesE",
        "outputId": "f7379c95-0c21-4e1e-fbe8-5f089e51a221"
      },
      "source": [
        "from sklearn.ensemble import RandomForestRegressor\n",
        "model= RandomForestRegressor()\n",
        "model.fit(train_img, train_lbl)"
      ],
      "execution_count": null,
      "outputs": [
        {
          "output_type": "execute_result",
          "data": {
            "text/plain": [
              "RandomForestRegressor(bootstrap=True, ccp_alpha=0.0, criterion='mse',\n",
              "                      max_depth=None, max_features='auto', max_leaf_nodes=None,\n",
              "                      max_samples=None, min_impurity_decrease=0.0,\n",
              "                      min_impurity_split=None, min_samples_leaf=1,\n",
              "                      min_samples_split=2, min_weight_fraction_leaf=0.0,\n",
              "                      n_estimators=100, n_jobs=None, oob_score=False,\n",
              "                      random_state=None, verbose=0, warm_start=False)"
            ]
          },
          "metadata": {
            "tags": []
          },
          "execution_count": 48
        }
      ]
    },
    {
      "cell_type": "code",
      "metadata": {
        "colab": {
          "base_uri": "https://localhost:8080/"
        },
        "id": "6KunpW_BiMpM",
        "outputId": "a3829269-8ddc-483d-a26e-3e526562e9b1"
      },
      "source": [
        "# Predict for One Observation (image)\n",
        "model.predict(test_img[0:10])"
      ],
      "execution_count": null,
      "outputs": [
        {
          "output_type": "execute_result",
          "data": {
            "text/plain": [
              "array([1.7 , 4.01, 1.52, 2.25, 5.79, 5.07, 6.97, 1.21, 1.  , 6.43])"
            ]
          },
          "metadata": {
            "tags": []
          },
          "execution_count": 49
        }
      ]
    },
    {
      "cell_type": "code",
      "metadata": {
        "colab": {
          "base_uri": "https://localhost:8080/"
        },
        "id": "UTm387CGNxDy",
        "outputId": "e9fa4450-5fb4-4df9-edd6-8ea5e05c1352"
      },
      "source": [
        "print(model.feature_importances_)"
      ],
      "execution_count": null,
      "outputs": [
        {
          "output_type": "stream",
          "text": [
            "[0.10743481 0.03001427 0.1384499  0.02556209 0.15465299 0.02892833\n",
            " 0.01940266 0.02758796 0.01705112 0.03890664 0.04909376 0.00601762\n",
            " 0.03045033 0.02685237 0.01023458 0.01603326 0.00697666 0.00272855\n",
            " 0.0085287  0.00877549 0.00458235 0.00281757 0.00945909 0.00651451\n",
            " 0.00847762 0.00584338 0.0018051  0.00595131 0.0019201  0.00434933\n",
            " 0.00235997 0.00170545 0.00190634 0.00236486 0.00163223 0.01098694\n",
            " 0.00361129 0.0013952  0.00341255 0.00316002 0.00126694 0.00194707\n",
            " 0.00160193 0.00152673 0.00113612 0.00135335 0.00166364 0.00092246\n",
            " 0.0011828  0.00082482 0.00556495 0.00183227 0.00160899 0.00075027\n",
            " 0.00386913 0.00086328 0.00212425 0.00101612 0.00102471 0.00093199\n",
            " 0.00096839 0.00055517 0.00153906 0.0011808  0.00105275 0.0009441\n",
            " 0.00173169 0.00071604 0.00118635 0.00100797 0.00087429 0.00068685\n",
            " 0.00086597 0.0030683  0.00068314 0.00089272 0.00052171 0.00114467\n",
            " 0.00093804 0.00078888 0.0009143  0.00442525 0.00084241 0.00070808\n",
            " 0.00116521 0.00081739 0.00092023 0.000573   0.00086248 0.00086121\n",
            " 0.00237173 0.00110958 0.00062041 0.0009928  0.00072012 0.0007745\n",
            " 0.00129591 0.00066556 0.00120945 0.00072969 0.00046618 0.00051644\n",
            " 0.00060671 0.00066487 0.00051937 0.00060693 0.00074522 0.00063044\n",
            " 0.00057725 0.00076159 0.00049299 0.00062948 0.00053197 0.00045985\n",
            " 0.00071817 0.00056167 0.00056773 0.00046957 0.00083592 0.00058399\n",
            " 0.00048878 0.00051667 0.00050422 0.00042162 0.00076273 0.00049858\n",
            " 0.00045182 0.0007904  0.00048085 0.00054199 0.00052185 0.00054524\n",
            " 0.00053646 0.00045386 0.00039893 0.00047105 0.00044083 0.00046877\n",
            " 0.00037449 0.00050268 0.00043563 0.00034069 0.00058602 0.000394\n",
            " 0.00048241 0.00044927 0.00052037 0.00040954 0.00040191 0.00034391\n",
            " 0.0005922  0.00066954 0.00051693 0.00045179 0.00048653 0.00041206\n",
            " 0.0004781  0.00042659 0.0003532  0.000364   0.00046268 0.00037268\n",
            " 0.00035439 0.00032069 0.00043603 0.00031509 0.00038597 0.00042364\n",
            " 0.00040731 0.00045302 0.00035938 0.00035819 0.00035706 0.00048612\n",
            " 0.00044765 0.00048816 0.00071476 0.00038011 0.00050374 0.00041826\n",
            " 0.00041838 0.00038851 0.00037086 0.00043005 0.0003102  0.00032354\n",
            " 0.00036395 0.00042772 0.00029343 0.00040385 0.0003684  0.00039927\n",
            " 0.00036458 0.00032798 0.00040218 0.00043439 0.00030581 0.00034951\n",
            " 0.00036098 0.00036651 0.00036689 0.00029783 0.00034648 0.00039653\n",
            " 0.00038195 0.00034333 0.00034022 0.00036582 0.00038031 0.00038675\n",
            " 0.00032614 0.00034675 0.00035401 0.00026179 0.00032908 0.00045612\n",
            " 0.0003201  0.00031717 0.00030041 0.00029714 0.00029125 0.00031386\n",
            " 0.00025707 0.00034084 0.00027054 0.00040952 0.00019858 0.00025973\n",
            " 0.00029792 0.00034547 0.0003786  0.00029329 0.00030947 0.00035005\n",
            " 0.00029077 0.00029136 0.00028439 0.00027641 0.00033363 0.00020574\n",
            " 0.000352   0.00038444 0.00032311 0.00031142 0.00025396 0.00036998\n",
            " 0.00031408 0.00046161 0.00043732 0.00033665 0.00030303 0.0002777\n",
            " 0.00025441 0.00039422 0.00027134 0.00030401 0.00028114 0.00031527\n",
            " 0.00034283 0.00040826 0.00024395 0.0003004  0.00028363 0.00023948\n",
            " 0.00023378 0.00032174 0.00033722 0.00024634 0.00024853 0.00033216\n",
            " 0.00022102 0.00027678 0.00026357 0.00027559 0.00024704 0.00029736\n",
            " 0.00027843 0.00026824 0.00026522 0.00025585 0.00029655 0.0003077\n",
            " 0.00033989 0.00028914 0.00027539 0.00028312 0.00029021 0.00027901\n",
            " 0.00032856 0.00027432 0.00025814 0.00031698 0.00032238 0.00035713\n",
            " 0.00024471 0.00029907 0.00031839 0.00034204 0.00026762 0.00028216\n",
            " 0.00030488 0.00023583 0.00027842 0.00030895 0.00029371 0.00024662\n",
            " 0.000259   0.00021682 0.00027289 0.00030154 0.00026466 0.00024471\n",
            " 0.00019933 0.00026207 0.00021956 0.00025698 0.00025961 0.00028555\n",
            " 0.00028501 0.00024105 0.00022065 0.00032018 0.00021795 0.00025779\n",
            " 0.00026807 0.00026263 0.00023343]\n"
          ],
          "name": "stdout"
        }
      ]
    },
    {
      "cell_type": "code",
      "metadata": {
        "colab": {
          "base_uri": "https://localhost:8080/",
          "height": 265
        },
        "id": "cvJia6mxN0Fs",
        "outputId": "44a06bb6-0db0-4887-fc0b-42a397787110"
      },
      "source": [
        "feat_importances = pd.Series(model.feature_importances_)\n",
        "feat_importances.nlargest(9).plot(kind='barh')\n",
        "plt.show()"
      ],
      "execution_count": null,
      "outputs": [
        {
          "output_type": "display_data",
          "data": {
            "image/png": "[encoded data removed]",
            "text/plain": [
              "<Figure size 432x288 with 1 Axes>"
            ]
          },
          "metadata": {
            "tags": [],
            "needs_background": "light"
          }
        }
      ]
    },
    {
      "cell_type": "code",
      "metadata": {
        "id": "ohKqXHhrdd4m"
      },
      "source": [
        ""
      ],
      "execution_count": null,
      "outputs": []
    }
  ]
}