{
  "nbformat": 4,
  "nbformat_minor": 0,
  "metadata": {
    "colab": {
      "name": "A/B testing_bayesian.ipynb",
      "provenance": [],
      "authorship_tag": "ABX9TyOomc1yP2rPedRShylt4e9Z",
      "include_colab_link": true
    },
    "kernelspec": {
      "display_name": "Python 3",
      "name": "python3"
    }
  },
  "cells": [
    {
      "cell_type": "markdown",
      "metadata": {
        "id": "view-in-github",
        "colab_type": "text"
      },
      "source": [
        "<a href=\"https://colab.research.google.com/github/umang66782/Plaksha/blob/main/A_B_testing_bayesian.ipynb\" target=\"_parent\"><img src=\"https://colab.research.google.com/assets/colab-badge.svg\" alt=\"Open In Colab\"/></a>"
      ]
    },
    {
      "cell_type": "code",
      "metadata": {
        "id": "LBZB-KYhI-zw"
      },
      "source": [
        ""
      ],
      "execution_count": 35,
      "outputs": []
    },
    {
      "cell_type": "markdown",
      "metadata": {
        "id": "v2I3QWWZI_6Z"
      },
      "source": [
        "## Chance to beat all and Expected Potential Loss in an A/B test for a given number of visitors and number of conversions corresponding to both variations."
      ]
    },
    {
      "cell_type": "code",
      "metadata": {
        "id": "zSI8kOKy4Nx3"
      },
      "source": [
        "from scipy import stats\r\n",
        "import numpy as np\r\n",
        " \r\n",
        "import matplotlib.pyplot as plt\r\n",
        "import ipywidgets as widgets\r\n",
        "from ipywidgets import interact, interact_manual\r\n",
        "import matplotlib.gridspec as gridspec"
      ],
      "execution_count": 36,
      "outputs": []
    },
    {
      "cell_type": "code",
      "metadata": {
        "id": "uHwuYthDu3gy"
      },
      "source": [
        "data = {\r\n",
        "    'variation_a': {\r\n",
        "        'con': np.array([50,20,30,10,5], \r\n",
        "                      dtype=np.float),\r\n",
        "        'num': np.array([100], \r\n",
        "                      dtype=np.float)\r\n",
        "    },\r\n",
        "    'variation_b': {\r\n",
        "        'con': np.array([60,40,50,20,15], \r\n",
        "                      dtype=np.float),\r\n",
        "        'num': np.array([100], \r\n",
        "                      dtype=np.float)\r\n",
        "    }\r\n",
        "}"
      ],
      "execution_count": 37,
      "outputs": []
    },
    {
      "cell_type": "code",
      "metadata": {
        "id": "3gJLVoAtLSt4"
      },
      "source": [
        "#probability b better than a (prob_ba)\r\n",
        "#probability b better than a error (prob_ba_error)\r\n",
        "n_montocarlo = 100000\r\n",
        "proba_b_a = []\r\n",
        "proba_b_a_error = []\r\n",
        "expected_loss_a = []\r\n",
        "expected_loss_a_error = []\r\n",
        "expected_loss_b = []\r\n",
        "expected_loss_b_error = []\r\n",
        "\r\n",
        "# mean and variance of a\r\n",
        "mean_a, var_a = stats.beta.stats(a=1+sum(data['variation_a']['con'][:1]),b=1+(sum(data['variation_a']['num'][:1])-sum(data['variation_a']['con'][:1])),moments='mv')\r\n",
        "\r\n",
        "# mean and variance of b\r\n",
        "mean_b, var_b = stats.beta.stats(a=1+sum(data['variation_b']['con'][:1]),b=1+(sum(data['variation_b']['num'][:1])-sum(data['variation_b']['con'][:1])),moments='mv')\r\n",
        "\r\n",
        "#genrating random values\r\n",
        "rand_a = np.random.normal(loc=mean_a, scale=1.25*np.sqrt(var_a), size=n_montocarlo)\r\n",
        "rand_b = np.random.normal(loc=mean_b, scale=1.25*np.sqrt(var_b), size=n_montocarlo)\r\n",
        "\r\n",
        "#beta distribution of a and b\r\n",
        "beta_a = stats.beta.pdf(rand_a, a=1+sum(data['variation_a']['con'][:1]), b=1+(sum(data['variation_a']['num'][:1])-sum(data['variation_a']['con'][:1])))\r\n",
        "beta_b = stats.beta.pdf(rand_b, a=1+sum(data['variation_b']['con'][:1]) ,b=1+(sum(data['variation_b']['num'][:1])-sum(data['variation_b']['con'][:1])))\r\n",
        "\r\n",
        "#normal distribution of a and b\r\n",
        "norm_a = stats.norm.pdf(rand_a, loc=mean_a, scale=1.25*np.sqrt(var_a))\r\n",
        "norm_b = stats.norm.pdf(rand_b, loc=mean_b, scale=1.25*np.sqrt(var_b))\r\n",
        "z = (beta_a*beta_b) / (norm_a*norm_b)\r\n",
        "\r\n",
        "# b is greater than a\r\n",
        "z_b = z[rand_b>=rand_a]\r\n",
        "prob = (1/n_montocarlo)* sum(z_b)\r\n",
        "prob_err = np.sqrt(1*(z_b*z_b).sum()/n_montocarlo - (1*z_b.sum()/n_montocarlo)**2)/np.sqrt(n_montocarlo)\r\n",
        "z_loss_a = ((rand_b-rand_a)*z)[rand_b>=rand_a]\r\n",
        "loss_a = 1/n_montocarlo * sum(z_loss_a)\r\n",
        "loss_a_err = np.sqrt(1*(z_loss_a*z_loss_a).sum()/n_montocarlo - (1*z_loss_a.sum()/n_montocarlo)**2)/np.sqrt(n_montocarlo)\r\n",
        "z_loss_b = ((rand_a-rand_b)*z)[rand_a>=rand_b]\r\n",
        "loss_b = 1/n_montocarlo * sum(z_loss_b)\r\n",
        "loss_b_err = np.sqrt(1*(z_loss_b*z_loss_b).sum()/n_montocarlo - (1*z_loss_b.sum()/n_montocarlo)**2)/np.sqrt(n_montocarlo)\r\n",
        "proba_b_a.append(prob)\r\n",
        "proba_b_a_error.append(prob_err)\r\n",
        "expected_loss_a.append(loss_a)\r\n",
        "expected_loss_a_error.append(loss_a_err)\r\n",
        "expected_loss_b.append(loss_b)\r\n",
        "expected_loss_b_error.append(loss_b_err)"
      ],
      "execution_count": 39,
      "outputs": []
    },
    {
      "cell_type": "code",
      "metadata": {
        "colab": {
          "base_uri": "https://localhost:8080/"
        },
        "id": "OofQiwWlEFFb",
        "outputId": "6a50438f-15b2-4e48-88e6-c5209e0299d8"
      },
      "source": [
        "#probability of b conversion with respect of a\r\n",
        "proba_b_a"
      ],
      "execution_count": 40,
      "outputs": [
        {
          "output_type": "execute_result",
          "data": {
            "text/plain": [
              "[0.921054528055004]"
            ]
          },
          "metadata": {
            "tags": []
          },
          "execution_count": 40
        }
      ]
    },
    {
      "cell_type": "code",
      "metadata": {
        "colab": {
          "base_uri": "https://localhost:8080/"
        },
        "id": "RFymqItrEK1F",
        "outputId": "4ec8f864-f7f8-4c4b-ce32-6f9097fb8dd6"
      },
      "source": [
        "proba_b_a_error"
      ],
      "execution_count": 41,
      "outputs": [
        {
          "output_type": "execute_result",
          "data": {
            "text/plain": [
              "[0.0015545787549156428]"
            ]
          },
          "metadata": {
            "tags": []
          },
          "execution_count": 41
        }
      ]
    },
    {
      "cell_type": "code",
      "metadata": {
        "colab": {
          "base_uri": "https://localhost:8080/"
        },
        "id": "K-TCG80sEN9n",
        "outputId": "83353b55-5451-48fd-c442-848ea06a0f21"
      },
      "source": [
        "expected_loss_a"
      ],
      "execution_count": 42,
      "outputs": [
        {
          "output_type": "execute_result",
          "data": {
            "text/plain": [
              "[0.10021704332613941]"
            ]
          },
          "metadata": {
            "tags": []
          },
          "execution_count": 42
        }
      ]
    },
    {
      "cell_type": "code",
      "metadata": {
        "id": "yMYZ6IoRMcIt",
        "outputId": "7687c6c0-9a55-4ab7-d5c9-ecdb17634e9f",
        "colab": {
          "base_uri": "https://localhost:8080/"
        }
      },
      "source": [
        "expected_loss_b"
      ],
      "execution_count": 45,
      "outputs": [
        {
          "output_type": "execute_result",
          "data": {
            "text/plain": [
              "[0.0024653657972881996]"
            ]
          },
          "metadata": {
            "tags": []
          },
          "execution_count": 45
        }
      ]
    },
    {
      "cell_type": "code",
      "metadata": {
        "colab": {
          "base_uri": "https://localhost:8080/"
        },
        "id": "cHTGi3YZESBI",
        "outputId": "3a7b2435-0fb0-4653-d3a1-194080d33b26"
      },
      "source": [
        "expected_loss_a_error"
      ],
      "execution_count": 43,
      "outputs": [
        {
          "output_type": "execute_result",
          "data": {
            "text/plain": [
              "[0.00022556939986282022]"
            ]
          },
          "metadata": {
            "tags": []
          },
          "execution_count": 43
        }
      ]
    },
    {
      "cell_type": "code",
      "metadata": {
        "colab": {
          "base_uri": "https://localhost:8080/"
        },
        "id": "CzATTFxUMXLl",
        "outputId": "07bc4a24-fd29-4683-ab30-37106c57a947"
      },
      "source": [
        "expected_loss_b_error"
      ],
      "execution_count": 44,
      "outputs": [
        {
          "output_type": "execute_result",
          "data": {
            "text/plain": [
              "[2.402269104890604e-05]"
            ]
          },
          "metadata": {
            "tags": []
          },
          "execution_count": 44
        }
      ]
    }
  ]
}