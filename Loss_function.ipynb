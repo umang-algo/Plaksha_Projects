{
  "nbformat": 4,
  "nbformat_minor": 0,
  "metadata": {
    "colab": {
      "name": "Loss_function.ipynb",
      "provenance": [],
      "authorship_tag": "ABX9TyPj38e/v7YP4tOhBLjleseE",
      "include_colab_link": true
    },
    "kernelspec": {
      "name": "python3",
      "display_name": "Python 3"
    }
  },
  "cells": [
    {
      "cell_type": "markdown",
      "metadata": {
        "id": "view-in-github",
        "colab_type": "text"
      },
      "source": [
        "<a href=\"https://colab.research.google.com/github/umang66782/Plaksha/blob/main/Loss_function.ipynb\" target=\"_parent\"><img src=\"https://colab.research.google.com/assets/colab-badge.svg\" alt=\"Open In Colab\"/></a>"
      ]
    },
    {
      "cell_type": "code",
      "metadata": {
        "id": "MDGWS8HIUUaS"
      },
      "source": [
        ""
      ],
      "execution_count": null,
      "outputs": []
    },
    {
      "cell_type": "markdown",
      "metadata": {
        "id": "CbXWXsPRVJLy"
      },
      "source": [
        "## Loss Function in Machine learning Algorithms "
      ]
    },
    {
      "cell_type": "markdown",
      "metadata": {
        "id": "ke0MA7keUV1v"
      },
      "source": [
        "## Huber loss"
      ]
    },
    {
      "cell_type": "code",
      "metadata": {
        "colab": {
          "base_uri": "https://localhost:8080/"
        },
        "id": "or4gJ5O2UBXD",
        "outputId": "f0941789-139b-4171-f97c-db8b80a94d95"
      },
      "source": [
        "import numpy as np\r\n",
        "\r\n",
        "def huber_loss(f_true , f_pred):\r\n",
        "    n = f_pred.shape[0]\r\n",
        "    delta = 5\r\n",
        "    error =  f_true - f_pred\r\n",
        "    con_error = np.abs(error) < delta \r\n",
        "    squ_loss = np.square(error)*0.5\r\n",
        "    linear_loss = np.abs(error)* delta - np.square(delta) * 0.5\r\n",
        "    \r\n",
        "    return (1/n)* (np.sum(np.where(con_error, squ_loss, linear_loss)))\r\n",
        "                      \r\n",
        "f_true = np.array([3,4,5,6,7])\r\n",
        "f_pred = np.array([4,9,9,5,10])\r\n",
        "\r\n",
        "print(huber_loss(f_true , f_pred))\r\n",
        "    "
      ],
      "execution_count": 1,
      "outputs": [
        {
          "output_type": "stream",
          "text": [
            "5.2\n"
          ],
          "name": "stdout"
        }
      ]
    },
    {
      "cell_type": "code",
      "metadata": {
        "id": "gxOL5bsMUa3_"
      },
      "source": [
        ""
      ],
      "execution_count": null,
      "outputs": []
    },
    {
      "cell_type": "markdown",
      "metadata": {
        "id": "6iHUFDNdUd0t"
      },
      "source": [
        "## Hinge Loss "
      ]
    },
    {
      "cell_type": "code",
      "metadata": {
        "colab": {
          "base_uri": "https://localhost:8080/"
        },
        "id": "c2spq-YjULpP",
        "outputId": "ef27aa58-dd86-471a-f1f9-4b82d4a36214"
      },
      "source": [
        "import numpy as np\r\n",
        "def hinge_loss(f_true, f_pred):\r\n",
        "    n = f_pred.shape[0]\r\n",
        "    hinge_ls = 0\r\n",
        "    for i in range(0, n):\r\n",
        "        hinge_ls = hinge_ls + (1/n)* (np.sum(max(0,(1-f_true[i]*f_pred[i]))))\r\n",
        "    return hinge_ls\r\n",
        " \r\n",
        "f_true = np.array([1,-1,-1,1,1])\r\n",
        "f_pred = np.array([-0.3,-0.5,6.6,0.2,0.9])  \r\n",
        "print(hinge_loss(f_true, f_pred))\r\n",
        "    \r\n",
        "    \r\n",
        "    "
      ],
      "execution_count": 2,
      "outputs": [
        {
          "output_type": "stream",
          "text": [
            "2.06\n"
          ],
          "name": "stdout"
        }
      ]
    },
    {
      "cell_type": "markdown",
      "metadata": {
        "id": "OIAHbotvUjQF"
      },
      "source": [
        "## Cross Entropy loss "
      ]
    },
    {
      "cell_type": "code",
      "metadata": {
        "colab": {
          "base_uri": "https://localhost:8080/"
        },
        "id": "ULmlV4HdUSSv",
        "outputId": "f50ef1ae-fca8-46c4-d1f6-434ce2a59698"
      },
      "source": [
        "import numpy as np\r\n",
        "def cross_entropy_loss(f_true, f_pred):\r\n",
        "    n = f_pred.shape[0]\r\n",
        "    entropy_loss = 0\r\n",
        "    for i in range(0,n):\r\n",
        "        if f_pred[i] != 0 and f_pred[i] != 1: \r\n",
        "            entropy_loss =  entropy_loss + (-1/n) * np.sum(f_true[i]* np.log(f_pred[i]) + (1 -f_true[i])*(np.log(1-f_pred[i])))\r\n",
        "    return entropy_loss                    \r\n",
        " \r\n",
        "                            \r\n",
        "f_pred = np.array([0.2,0.5,1,0.7,0.05])\r\n",
        "f_true = np.array([1,0,0,1,1])                                                        \r\n",
        "print(cross_entropy_loss(f_true, f_pred))  "
      ],
      "execution_count": 3,
      "outputs": [
        {
          "output_type": "stream",
          "text": [
            "1.1309984620973537\n"
          ],
          "name": "stdout"
        }
      ]
    },
    {
      "cell_type": "code",
      "metadata": {
        "id": "LNFEXEIJUSWi"
      },
      "source": [
        ""
      ],
      "execution_count": null,
      "outputs": []
    },
    {
      "cell_type": "markdown",
      "metadata": {
        "id": "dneP2frJVeuW"
      },
      "source": [
        "# Mean Square Error "
      ]
    },
    {
      "cell_type": "code",
      "metadata": {
        "colab": {
          "base_uri": "https://localhost:8080/"
        },
        "id": "BCtO51zEVdxs",
        "outputId": "71a97c68-ce4f-486d-f647-4788ddd2e74d"
      },
      "source": [
        "import numpy as np\r\n",
        "\r\n",
        "def mse(f_true , f_pred):\r\n",
        "  n = f_true.shape[0]      \r\n",
        "  ms_error = 1/n * (np.sum(np.square(f_true - f_pred)))\r\n",
        "    \r\n",
        "  return ms_error\r\n",
        "                      \r\n",
        "f_true = np.array([3,4,5,6,7])\r\n",
        "f_pred = np.array([4,9,9,5,10])\r\n",
        "\r\n",
        "print(mse(f_true , f_pred))"
      ],
      "execution_count": 6,
      "outputs": [
        {
          "output_type": "stream",
          "text": [
            "10.4\n"
          ],
          "name": "stdout"
        }
      ]
    },
    {
      "cell_type": "code",
      "metadata": {
        "id": "hJer7CQyUva0"
      },
      "source": [
        ""
      ],
      "execution_count": null,
      "outputs": []
    }
  ]
}