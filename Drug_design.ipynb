{
  "nbformat": 4,
  "nbformat_minor": 0,
  "metadata": {
    "colab": {
      "name": "Drug_design.ipynb",
      "provenance": [],
      "collapsed_sections": [],
      "machine_shape": "hm",
      "include_colab_link": true
    },
    "kernelspec": {
      "display_name": "Python 3",
      "name": "python3"
    },
    "accelerator": "GPU"
  },
  "cells": [
    {
      "cell_type": "markdown",
      "metadata": {
        "id": "view-in-github",
        "colab_type": "text"
      },
      "source": [
        "<a href=\"https://colab.research.google.com/github/umang66782/Plaksha/blob/main/Drug_design.ipynb\" target=\"_parent\"><img src=\"https://colab.research.google.com/assets/colab-badge.svg\" alt=\"Open In Colab\"/></a>"
      ]
    },
    {
      "cell_type": "markdown",
      "metadata": {
        "id": "JF_Z5o5x1yhe"
      },
      "source": [
        "## Generation of new chemical Structure using convolution Neural Network and Variational Autoencoder."
      ]
    },
    {
      "cell_type": "markdown",
      "metadata": {
        "id": "hgEe4o5nzxSI"
      },
      "source": [
        "Chemical structures are\r\n",
        "represented using SMILES strings (see https://en.wikipedia.org/\r\n",
        "wiki/Simplified_molecular-input_line-entry_system) and you have\r\n",
        "access to structures that exist in the ZINC database (see, https:\r\n",
        "//www.ncbi.nlm.nih.gov/pmc/articles/PMC1360656/).\r\n",
        "Ideally, new structures have to be screened but here we will only imlement the part that is responsible for generating new structures. "
      ]
    },
    {
      "cell_type": "code",
      "metadata": {
        "colab": {
          "base_uri": "https://localhost:8080/"
        },
        "id": "dYSLa1JVSbm3",
        "outputId": "7bafc017-9362-4700-f42e-a16af945c78c"
      },
      "source": [
        "from google.colab import drive\n",
        "drive.mount(\"/content/drive\")"
      ],
      "execution_count": null,
      "outputs": [
        {
          "output_type": "stream",
          "text": [
            "Drive already mounted at /content/drive; to attempt to forcibly remount, call drive.mount(\"/content/drive\", force_remount=True).\n"
          ],
          "name": "stdout"
        }
      ]
    },
    {
      "cell_type": "code",
      "metadata": {
        "id": "Bz8Mje5L0UI7"
      },
      "source": [
        "import pandas as pd\n",
        "import numpy as np\n",
        "import tensorflow as tf \n",
        "import matplotlib\n",
        "import matplotlib.pyplot as plt \n",
        "import matplotlib.patches as mpatches \n",
        "%matplotlib inline\n",
        "import keras\n",
        "from keras import layers\n",
        "from keras.models import Model \n",
        "from keras import metrics\n",
        "from keras import backend as K \n",
        "import tensorflow.compat.v1.keras.backend as K \n",
        "tf.compat.v1.disable_eager_execution()\n",
        "from tensorflow.keras.optimizers import Adam \n",
        "import warnings \n",
        "warnings.filterwarnings(\"ignore\")"
      ],
      "execution_count": null,
      "outputs": []
    },
    {
      "cell_type": "code",
      "metadata": {
        "id": "0OQ47lQFfDjU"
      },
      "source": [
        "!pip install kora -q\n",
        "import kora.install.rdkit\n",
        "from rdkit import Chem"
      ],
      "execution_count": null,
      "outputs": []
    },
    {
      "cell_type": "markdown",
      "metadata": {
        "id": "PxDTC7ss1qip"
      },
      "source": [
        "DataSet References : - http://zinc.docking.org/tranches/home/"
      ]
    },
    {
      "cell_type": "code",
      "metadata": {
        "colab": {
          "base_uri": "https://localhost:8080/",
          "height": 419
        },
        "id": "8vWO7UdLeq-w",
        "outputId": "6193dbee-0ead-4e4a-c088-1485a0149a0e"
      },
      "source": [
        "import pandas as pd\n",
        "import numpy as np\n",
        "data = pd.read_csv('/content/drive/MyDrive/dataset.csv')\n",
        "data"
      ],
      "execution_count": null,
      "outputs": [
        {
          "output_type": "execute_result",
          "data": {
            "text/html": [
              "<div>\n",
              "<style scoped>\n",
              "    .dataframe tbody tr th:only-of-type {\n",
              "        vertical-align: middle;\n",
              "    }\n",
              "\n",
              "    .dataframe tbody tr th {\n",
              "        vertical-align: top;\n",
              "    }\n",
              "\n",
              "    .dataframe thead th {\n",
              "        text-align: right;\n",
              "    }\n",
              "</style>\n",
              "<table border=\"1\" class=\"dataframe\">\n",
              "  <thead>\n",
              "    <tr style=\"text-align: right;\">\n",
              "      <th></th>\n",
              "      <th>zinc_id</th>\n",
              "      <th>smiles</th>\n",
              "    </tr>\n",
              "  </thead>\n",
              "  <tbody>\n",
              "    <tr>\n",
              "      <th>0</th>\n",
              "      <td>ZINC000000008151</td>\n",
              "      <td>C[C@H]1[C@@H](O)[C@H](CO)O[C@@H](O)[C@@H]1N</td>\n",
              "    </tr>\n",
              "    <tr>\n",
              "      <th>1</th>\n",
              "      <td>ZINC000000008153</td>\n",
              "      <td>CC[C@@H]1[C@@H](N)[C@@H](O)O[C@@H](CO)[C@@H]1O</td>\n",
              "    </tr>\n",
              "    <tr>\n",
              "      <th>2</th>\n",
              "      <td>ZINC000000008155</td>\n",
              "      <td>CC1(C)[C@@H](N)[C@@H](O)O[C@@H](CO)[C@@H]1O</td>\n",
              "    </tr>\n",
              "    <tr>\n",
              "      <th>3</th>\n",
              "      <td>ZINC000000018276</td>\n",
              "      <td>CS[C@@H]1CN[C@@H](CO)[C@H](O)[C@H]1O</td>\n",
              "    </tr>\n",
              "    <tr>\n",
              "      <th>4</th>\n",
              "      <td>ZINC000000018279</td>\n",
              "      <td>CS[C@@H]1[C@@H](O)CN[C@@H](CO)[C@@H]1O</td>\n",
              "    </tr>\n",
              "    <tr>\n",
              "      <th>...</th>\n",
              "      <td>...</td>\n",
              "      <td>...</td>\n",
              "    </tr>\n",
              "    <tr>\n",
              "      <th>427851</th>\n",
              "      <td>ZINC000242463989</td>\n",
              "      <td>O[Cl+3](O)(O)O</td>\n",
              "    </tr>\n",
              "    <tr>\n",
              "      <th>427852</th>\n",
              "      <td>ZINC000247713634</td>\n",
              "      <td>O1[SiH2][SiH2]O[SiH2][SiH2]1</td>\n",
              "    </tr>\n",
              "    <tr>\n",
              "      <th>427853</th>\n",
              "      <td>ZINC000252581626</td>\n",
              "      <td>O[Si](O)(O)F</td>\n",
              "    </tr>\n",
              "    <tr>\n",
              "      <th>427854</th>\n",
              "      <td>ZINC000685945533</td>\n",
              "      <td>Cn1nnnc1S(=O)(=O)F</td>\n",
              "    </tr>\n",
              "    <tr>\n",
              "      <th>427855</th>\n",
              "      <td>ZINC000725262634</td>\n",
              "      <td>Cn1nnc(S(=O)(=O)F)n1</td>\n",
              "    </tr>\n",
              "  </tbody>\n",
              "</table>\n",
              "<p>427856 rows × 2 columns</p>\n",
              "</div>"
            ],
            "text/plain": [
              "                 zinc_id                                          smiles\n",
              "0       ZINC000000008151     C[C@H]1[C@@H](O)[C@H](CO)O[C@@H](O)[C@@H]1N\n",
              "1       ZINC000000008153  CC[C@@H]1[C@@H](N)[C@@H](O)O[C@@H](CO)[C@@H]1O\n",
              "2       ZINC000000008155     CC1(C)[C@@H](N)[C@@H](O)O[C@@H](CO)[C@@H]1O\n",
              "3       ZINC000000018276            CS[C@@H]1CN[C@@H](CO)[C@H](O)[C@H]1O\n",
              "4       ZINC000000018279          CS[C@@H]1[C@@H](O)CN[C@@H](CO)[C@@H]1O\n",
              "...                  ...                                             ...\n",
              "427851  ZINC000242463989                                  O[Cl+3](O)(O)O\n",
              "427852  ZINC000247713634                    O1[SiH2][SiH2]O[SiH2][SiH2]1\n",
              "427853  ZINC000252581626                                    O[Si](O)(O)F\n",
              "427854  ZINC000685945533                              Cn1nnnc1S(=O)(=O)F\n",
              "427855  ZINC000725262634                            Cn1nnc(S(=O)(=O)F)n1\n",
              "\n",
              "[427856 rows x 2 columns]"
            ]
          },
          "metadata": {
            "tags": []
          },
          "execution_count": 144
        }
      ]
    },
    {
      "cell_type": "code",
      "metadata": {
        "id": "wy9FqqDoxleF"
      },
      "source": [
        ""
      ],
      "execution_count": null,
      "outputs": []
    },
    {
      "cell_type": "markdown",
      "metadata": {
        "id": "Qk-fpDQ-xzF3"
      },
      "source": [
        "To convert smiles unique character to numpy array. Use Encoder for encode smiles and decoder is used after getting prediction from VAE decoder the reverse it into numpy aarray to smiles.\r\n",
        "\r\n",
        "References :-https://iwatobipen.wordpress.com/2017/01/22/encode-and-decode-smiles-strings/"
      ]
    },
    {
      "cell_type": "code",
      "metadata": {
        "id": "UR3ykxFqypxU"
      },
      "source": [
        ""
      ],
      "execution_count": null,
      "outputs": []
    },
    {
      "cell_type": "code",
      "metadata": {
        "id": "6x-TbY7lfM-1"
      },
      "source": [
        "SMILES_CHARS = [' ',\n",
        "                  '#', '%', '(', ')', '+', '-', '.', '/',\n",
        "                  '0', '1', '2', '3', '4', '5', '6', '7', '8', '9',\n",
        "                  '=', '@',\n",
        "                  'A', 'B', 'C', 'F', 'H', 'I', 'K', 'L', 'M', 'N', 'O', 'P',\n",
        "                  'R', 'S', 'T', 'V', 'X', 'Z',\n",
        "                  '[', '\\\\', ']',\n",
        "                  'a', 'b', 'c', 'e', 'g', 'i', 'l', 'n', 'o', 'p', 'r', 's',\n",
        "                  't', 'u']\n",
        "smi2index = dict( (c,i) for i,c in enumerate( SMILES_CHARS ) )\n",
        "index2smi = dict( (i,c) for i,c in enumerate( SMILES_CHARS ) )"
      ],
      "execution_count": null,
      "outputs": []
    },
    {
      "cell_type": "code",
      "metadata": {
        "id": "bzUAsHOFL1oV"
      },
      "source": [
        ""
      ],
      "execution_count": null,
      "outputs": []
    },
    {
      "cell_type": "markdown",
      "metadata": {
        "id": "LyPVvZDiL167"
      },
      "source": [
        "## Smile Encoder \r\n",
        "Use to take Smiles Character from datasets as input "
      ]
    },
    {
      "cell_type": "code",
      "metadata": {
        "id": "p5rpGbO_LvhN"
      },
      "source": [
        "def smiles_encoder( smiles, maxlen=62 ):\r\n",
        "    smiles = Chem.MolToSmiles(Chem.MolFromSmiles( smiles ))\r\n",
        "    z= np.zeros( ( maxlen, len( SMILES_CHARS ) ) )\r\n",
        "    for i, c in enumerate( smiles ):\r\n",
        "        z[i, smi2index[c]] = 1\r\n",
        "    return z"
      ],
      "execution_count": null,
      "outputs": []
    },
    {
      "cell_type": "code",
      "metadata": {
        "id": "xcEdZiGCL06g"
      },
      "source": [
        ""
      ],
      "execution_count": null,
      "outputs": []
    },
    {
      "cell_type": "markdown",
      "metadata": {
        "id": "NQFKYBcyL7dw"
      },
      "source": [
        "## Smile Decoder \r\n",
        "Use for decoding the array of smiles to smiles charater after VAE predict."
      ]
    },
    {
      "cell_type": "code",
      "metadata": {
        "id": "Y26xRDQ6Lwfw"
      },
      "source": [
        "def smiles_decoder( z ):\r\n",
        "    smi = ''\r\n",
        "    z = z.argmax( axis=-1 )\r\n",
        "    for i in z:\r\n",
        "        smi += index2smi[i]\r\n",
        "    return smi"
      ],
      "execution_count": null,
      "outputs": []
    },
    {
      "cell_type": "code",
      "metadata": {
        "id": "Y45PXbmCxSHi"
      },
      "source": [
        ""
      ],
      "execution_count": null,
      "outputs": []
    },
    {
      "cell_type": "markdown",
      "metadata": {
        "id": "_gaeHW9txS62"
      },
      "source": [
        "Use one hot encoding cover the smiles character in numpy aarray "
      ]
    },
    {
      "cell_type": "code",
      "metadata": {
        "id": "ju2aBw-Gff9G"
      },
      "source": [
        "p = []\n",
        "for i in data['smiles'][:50000]:\n",
        "    p.append(smiles_encoder(i))\n",
        "a = np.array(p)"
      ],
      "execution_count": null,
      "outputs": []
    },
    {
      "cell_type": "code",
      "metadata": {
        "id": "EyGDicCqKHCy",
        "colab": {
          "base_uri": "https://localhost:8080/"
        },
        "outputId": "31d04727-46b6-4ad1-c4b7-b2ead8759353"
      },
      "source": [
        "a.shape"
      ],
      "execution_count": null,
      "outputs": [
        {
          "output_type": "execute_result",
          "data": {
            "text/plain": [
              "(50000, 62, 56)"
            ]
          },
          "metadata": {
            "tags": []
          },
          "execution_count": 149
        }
      ]
    },
    {
      "cell_type": "code",
      "metadata": {
        "id": "Jg30hmp7zUtz"
      },
      "source": [
        ""
      ],
      "execution_count": null,
      "outputs": []
    },
    {
      "cell_type": "markdown",
      "metadata": {
        "id": "4fNRMtnNzVXB"
      },
      "source": [
        "Reshaping is required for adding channels "
      ]
    },
    {
      "cell_type": "code",
      "metadata": {
        "id": "cxJ8aH-BQavn"
      },
      "source": [
        "a= a.reshape(-1,62,56,1)"
      ],
      "execution_count": null,
      "outputs": []
    },
    {
      "cell_type": "code",
      "metadata": {
        "id": "eHHQTQj2-cx_",
        "colab": {
          "base_uri": "https://localhost:8080/"
        },
        "outputId": "dce8b47c-0678-48fa-8df6-a29c8f94e0d5"
      },
      "source": [
        "a.shape"
      ],
      "execution_count": null,
      "outputs": [
        {
          "output_type": "execute_result",
          "data": {
            "text/plain": [
              "(50000, 62, 56, 1)"
            ]
          },
          "metadata": {
            "tags": []
          },
          "execution_count": 151
        }
      ]
    },
    {
      "cell_type": "code",
      "metadata": {
        "id": "z4d0siQUVZRC",
        "colab": {
          "base_uri": "https://localhost:8080/"
        },
        "outputId": "628f1a3a-9f4a-45d9-b353-58399b6e773f"
      },
      "source": [
        "a"
      ],
      "execution_count": null,
      "outputs": [
        {
          "output_type": "execute_result",
          "data": {
            "text/plain": [
              "array([[[[0.],\n",
              "         [0.],\n",
              "         [0.],\n",
              "         ...,\n",
              "         [0.],\n",
              "         [0.],\n",
              "         [0.]],\n",
              "\n",
              "        [[0.],\n",
              "         [0.],\n",
              "         [0.],\n",
              "         ...,\n",
              "         [0.],\n",
              "         [0.],\n",
              "         [0.]],\n",
              "\n",
              "        [[0.],\n",
              "         [0.],\n",
              "         [0.],\n",
              "         ...,\n",
              "         [0.],\n",
              "         [0.],\n",
              "         [0.]],\n",
              "\n",
              "        ...,\n",
              "\n",
              "        [[0.],\n",
              "         [0.],\n",
              "         [0.],\n",
              "         ...,\n",
              "         [0.],\n",
              "         [0.],\n",
              "         [0.]],\n",
              "\n",
              "        [[0.],\n",
              "         [0.],\n",
              "         [0.],\n",
              "         ...,\n",
              "         [0.],\n",
              "         [0.],\n",
              "         [0.]],\n",
              "\n",
              "        [[0.],\n",
              "         [0.],\n",
              "         [0.],\n",
              "         ...,\n",
              "         [0.],\n",
              "         [0.],\n",
              "         [0.]]],\n",
              "\n",
              "\n",
              "       [[[0.],\n",
              "         [0.],\n",
              "         [0.],\n",
              "         ...,\n",
              "         [0.],\n",
              "         [0.],\n",
              "         [0.]],\n",
              "\n",
              "        [[0.],\n",
              "         [0.],\n",
              "         [0.],\n",
              "         ...,\n",
              "         [0.],\n",
              "         [0.],\n",
              "         [0.]],\n",
              "\n",
              "        [[0.],\n",
              "         [0.],\n",
              "         [0.],\n",
              "         ...,\n",
              "         [0.],\n",
              "         [0.],\n",
              "         [0.]],\n",
              "\n",
              "        ...,\n",
              "\n",
              "        [[0.],\n",
              "         [0.],\n",
              "         [0.],\n",
              "         ...,\n",
              "         [0.],\n",
              "         [0.],\n",
              "         [0.]],\n",
              "\n",
              "        [[0.],\n",
              "         [0.],\n",
              "         [0.],\n",
              "         ...,\n",
              "         [0.],\n",
              "         [0.],\n",
              "         [0.]],\n",
              "\n",
              "        [[0.],\n",
              "         [0.],\n",
              "         [0.],\n",
              "         ...,\n",
              "         [0.],\n",
              "         [0.],\n",
              "         [0.]]],\n",
              "\n",
              "\n",
              "       [[[0.],\n",
              "         [0.],\n",
              "         [0.],\n",
              "         ...,\n",
              "         [0.],\n",
              "         [0.],\n",
              "         [0.]],\n",
              "\n",
              "        [[0.],\n",
              "         [0.],\n",
              "         [0.],\n",
              "         ...,\n",
              "         [0.],\n",
              "         [0.],\n",
              "         [0.]],\n",
              "\n",
              "        [[0.],\n",
              "         [0.],\n",
              "         [0.],\n",
              "         ...,\n",
              "         [0.],\n",
              "         [0.],\n",
              "         [0.]],\n",
              "\n",
              "        ...,\n",
              "\n",
              "        [[0.],\n",
              "         [0.],\n",
              "         [0.],\n",
              "         ...,\n",
              "         [0.],\n",
              "         [0.],\n",
              "         [0.]],\n",
              "\n",
              "        [[0.],\n",
              "         [0.],\n",
              "         [0.],\n",
              "         ...,\n",
              "         [0.],\n",
              "         [0.],\n",
              "         [0.]],\n",
              "\n",
              "        [[0.],\n",
              "         [0.],\n",
              "         [0.],\n",
              "         ...,\n",
              "         [0.],\n",
              "         [0.],\n",
              "         [0.]]],\n",
              "\n",
              "\n",
              "       ...,\n",
              "\n",
              "\n",
              "       [[[0.],\n",
              "         [0.],\n",
              "         [0.],\n",
              "         ...,\n",
              "         [0.],\n",
              "         [0.],\n",
              "         [0.]],\n",
              "\n",
              "        [[0.],\n",
              "         [0.],\n",
              "         [0.],\n",
              "         ...,\n",
              "         [0.],\n",
              "         [0.],\n",
              "         [0.]],\n",
              "\n",
              "        [[0.],\n",
              "         [0.],\n",
              "         [0.],\n",
              "         ...,\n",
              "         [0.],\n",
              "         [0.],\n",
              "         [0.]],\n",
              "\n",
              "        ...,\n",
              "\n",
              "        [[0.],\n",
              "         [0.],\n",
              "         [0.],\n",
              "         ...,\n",
              "         [0.],\n",
              "         [0.],\n",
              "         [0.]],\n",
              "\n",
              "        [[0.],\n",
              "         [0.],\n",
              "         [0.],\n",
              "         ...,\n",
              "         [0.],\n",
              "         [0.],\n",
              "         [0.]],\n",
              "\n",
              "        [[0.],\n",
              "         [0.],\n",
              "         [0.],\n",
              "         ...,\n",
              "         [0.],\n",
              "         [0.],\n",
              "         [0.]]],\n",
              "\n",
              "\n",
              "       [[[0.],\n",
              "         [0.],\n",
              "         [0.],\n",
              "         ...,\n",
              "         [0.],\n",
              "         [0.],\n",
              "         [0.]],\n",
              "\n",
              "        [[0.],\n",
              "         [0.],\n",
              "         [0.],\n",
              "         ...,\n",
              "         [0.],\n",
              "         [0.],\n",
              "         [0.]],\n",
              "\n",
              "        [[0.],\n",
              "         [0.],\n",
              "         [0.],\n",
              "         ...,\n",
              "         [0.],\n",
              "         [0.],\n",
              "         [0.]],\n",
              "\n",
              "        ...,\n",
              "\n",
              "        [[0.],\n",
              "         [0.],\n",
              "         [0.],\n",
              "         ...,\n",
              "         [0.],\n",
              "         [0.],\n",
              "         [0.]],\n",
              "\n",
              "        [[0.],\n",
              "         [0.],\n",
              "         [0.],\n",
              "         ...,\n",
              "         [0.],\n",
              "         [0.],\n",
              "         [0.]],\n",
              "\n",
              "        [[0.],\n",
              "         [0.],\n",
              "         [0.],\n",
              "         ...,\n",
              "         [0.],\n",
              "         [0.],\n",
              "         [0.]]],\n",
              "\n",
              "\n",
              "       [[[0.],\n",
              "         [0.],\n",
              "         [0.],\n",
              "         ...,\n",
              "         [0.],\n",
              "         [0.],\n",
              "         [0.]],\n",
              "\n",
              "        [[0.],\n",
              "         [0.],\n",
              "         [0.],\n",
              "         ...,\n",
              "         [0.],\n",
              "         [0.],\n",
              "         [0.]],\n",
              "\n",
              "        [[0.],\n",
              "         [0.],\n",
              "         [0.],\n",
              "         ...,\n",
              "         [0.],\n",
              "         [0.],\n",
              "         [0.]],\n",
              "\n",
              "        ...,\n",
              "\n",
              "        [[0.],\n",
              "         [0.],\n",
              "         [0.],\n",
              "         ...,\n",
              "         [0.],\n",
              "         [0.],\n",
              "         [0.]],\n",
              "\n",
              "        [[0.],\n",
              "         [0.],\n",
              "         [0.],\n",
              "         ...,\n",
              "         [0.],\n",
              "         [0.],\n",
              "         [0.]],\n",
              "\n",
              "        [[0.],\n",
              "         [0.],\n",
              "         [0.],\n",
              "         ...,\n",
              "         [0.],\n",
              "         [0.],\n",
              "         [0.]]]])"
            ]
          },
          "metadata": {
            "tags": []
          },
          "execution_count": 152
        }
      ]
    },
    {
      "cell_type": "markdown",
      "metadata": {
        "id": "0nbalSM_FIy7"
      },
      "source": [
        "## Encoder \r\n",
        "Take input after coverting of smile character in numpy array "
      ]
    },
    {
      "cell_type": "code",
      "metadata": {
        "id": "r5FoBrgeF5ZU"
      },
      "source": [
        "data_shape = (62, 56,1)\n",
        "batch_size = 256\n",
        "latent_dim = 2\n",
        "input_data = keras.Input(shape=data_shape)\n",
        "x = layers.Conv1D(128, 7,padding='same',activation='relu')(input_data)\n",
        "x = layers.Conv2D(128, 3,padding='same',activation='relu',strides=(2, 2))(x)\n",
        "x = layers.Conv2D(128, 3,padding='same',activation='relu')(x)\n",
        "x = layers.Conv2D(128, 3,padding='same',activation='relu')(x)\n",
        "shape_flattening = K.int_shape(x)\n",
        "x = layers.Flatten()(x)\n",
        "x = layers.Dense(32, activation='sigmoid')(x)\n",
        "mu = layers.Dense(latent_dim)(x)\n",
        "log_sigma = layers.Dense(latent_dim)(x)"
      ],
      "execution_count": null,
      "outputs": []
    },
    {
      "cell_type": "code",
      "metadata": {
        "colab": {
          "base_uri": "https://localhost:8080/"
        },
        "id": "hRCuw5b9FQfZ",
        "outputId": "1706ee4e-0674-4b96-bdc8-088e1c17a1fa"
      },
      "source": [
        "shape_flattening"
      ],
      "execution_count": null,
      "outputs": [
        {
          "output_type": "execute_result",
          "data": {
            "text/plain": [
              "(None, 31, 28, 128)"
            ]
          },
          "metadata": {
            "tags": []
          },
          "execution_count": 154
        }
      ]
    },
    {
      "cell_type": "code",
      "metadata": {
        "colab": {
          "base_uri": "https://localhost:8080/"
        },
        "id": "C-I_OBW726it",
        "outputId": "0ae505a0-5660-4154-82e9-ccfffbdbadd2"
      },
      "source": [
        "x.shape"
      ],
      "execution_count": null,
      "outputs": [
        {
          "output_type": "execute_result",
          "data": {
            "text/plain": [
              "TensorShape([None, 32])"
            ]
          },
          "metadata": {
            "tags": []
          },
          "execution_count": 155
        }
      ]
    },
    {
      "cell_type": "code",
      "metadata": {
        "colab": {
          "base_uri": "https://localhost:8080/"
        },
        "id": "E1qrYrRTHR_Y",
        "outputId": "b6e142ba-aec1-481a-cec7-cf29014731b8"
      },
      "source": [
        "mu.shape"
      ],
      "execution_count": null,
      "outputs": [
        {
          "output_type": "execute_result",
          "data": {
            "text/plain": [
              "TensorShape([None, 2])"
            ]
          },
          "metadata": {
            "tags": []
          },
          "execution_count": 156
        }
      ]
    },
    {
      "cell_type": "code",
      "metadata": {
        "colab": {
          "base_uri": "https://localhost:8080/"
        },
        "id": "Qrt59mD3HWIZ",
        "outputId": "18357a3e-4069-4dee-cf84-9aca3af93ed7"
      },
      "source": [
        "log_sigma.shape"
      ],
      "execution_count": null,
      "outputs": [
        {
          "output_type": "execute_result",
          "data": {
            "text/plain": [
              "TensorShape([None, 2])"
            ]
          },
          "metadata": {
            "tags": []
          },
          "execution_count": 157
        }
      ]
    },
    {
      "cell_type": "markdown",
      "metadata": {
        "id": "iB3ruG8UFR66"
      },
      "source": [
        "## Latent Space\r\n",
        "MU and Sigma sampling from encoder "
      ]
    },
    {
      "cell_type": "code",
      "metadata": {
        "id": "ibWwwiPZv6Dy"
      },
      "source": [
        "def sampling(args):\n",
        "  mu, log_sigma = args\n",
        "  epsilon = K.random_normal(shape=(K.shape(mu)[0], latent_dim),\n",
        "  mean=0., stddev=1.)\n",
        "  return mu + K.exp(log_sigma) * epsilon\n",
        "X = layers.Lambda(sampling)([mu, log_sigma])"
      ],
      "execution_count": null,
      "outputs": []
    },
    {
      "cell_type": "code",
      "metadata": {
        "colab": {
          "base_uri": "https://localhost:8080/"
        },
        "id": "zrJaTldYFZRA",
        "outputId": "98d2c58c-e35a-4422-b455-58ccc5f044ec"
      },
      "source": [
        "X.shape"
      ],
      "execution_count": null,
      "outputs": [
        {
          "output_type": "execute_result",
          "data": {
            "text/plain": [
              "TensorShape([None, 2])"
            ]
          },
          "metadata": {
            "tags": []
          },
          "execution_count": 159
        }
      ]
    },
    {
      "cell_type": "code",
      "metadata": {
        "colab": {
          "base_uri": "https://localhost:8080/"
        },
        "id": "ar1q135dwDQz",
        "outputId": "f0a8e2b9-835d-4e61-bcf2-d1a6be98e284"
      },
      "source": [
        "mu.shape"
      ],
      "execution_count": null,
      "outputs": [
        {
          "output_type": "execute_result",
          "data": {
            "text/plain": [
              "TensorShape([None, 2])"
            ]
          },
          "metadata": {
            "tags": []
          },
          "execution_count": 160
        }
      ]
    },
    {
      "cell_type": "code",
      "metadata": {
        "colab": {
          "base_uri": "https://localhost:8080/"
        },
        "id": "b22g4OEGwGTF",
        "outputId": "7f900731-6294-4553-87e2-e6e8a92bb879"
      },
      "source": [
        "log_sigma.shape "
      ],
      "execution_count": null,
      "outputs": [
        {
          "output_type": "execute_result",
          "data": {
            "text/plain": [
              "TensorShape([None, 2])"
            ]
          },
          "metadata": {
            "tags": []
          },
          "execution_count": 161
        }
      ]
    },
    {
      "cell_type": "markdown",
      "metadata": {
        "id": "uwOXn-9uwQ81"
      },
      "source": [
        "Two Dimesional mu and sigma get from sampling from encoder "
      ]
    },
    {
      "cell_type": "markdown",
      "metadata": {
        "id": "Dyavs6cpFbVD"
      },
      "source": [
        "## Decoder \r\n",
        "Decoder take input from sampling vector obtain using mu and sigma distribution "
      ]
    },
    {
      "cell_type": "code",
      "metadata": {
        "id": "x2pDm2Xfv6X-"
      },
      "source": [
        "decoder_input = layers.Input(K.int_shape(X)[1:])\n",
        "x = layers.Dense(np.prod(shape_flattening[1:]),\n",
        "                 activation='relu')(decoder_input)\n",
        "x = layers.Reshape(shape_flattening[1:])(x)\n",
        "x = layers.Conv2DTranspose(32, 3,\n",
        "                           padding='same',\n",
        "                           activation='relu',\n",
        "                           strides=(2, 2))(x)\n",
        "x = layers.Conv2D(1, 3,\n",
        "                  padding='same',\n",
        "                  activation='sigmoid')(x)\n",
        "decoder = Model(decoder_input, x)\n",
        "X_decoded = decoder(X)"
      ],
      "execution_count": null,
      "outputs": []
    },
    {
      "cell_type": "code",
      "metadata": {
        "colab": {
          "base_uri": "https://localhost:8080/"
        },
        "id": "FQcnG7cuH1FS",
        "outputId": "a3daed7f-bb3d-4bd0-8ffb-51e86679fb14"
      },
      "source": [
        "decoder_input.shape"
      ],
      "execution_count": null,
      "outputs": [
        {
          "output_type": "execute_result",
          "data": {
            "text/plain": [
              "TensorShape([None, 2])"
            ]
          },
          "metadata": {
            "tags": []
          },
          "execution_count": 163
        }
      ]
    },
    {
      "cell_type": "code",
      "metadata": {
        "colab": {
          "base_uri": "https://localhost:8080/"
        },
        "id": "s06oE5_lIIHj",
        "outputId": "7f747c2b-2a41-488e-c378-7744a1a34104"
      },
      "source": [
        "X_decoded.shape "
      ],
      "execution_count": null,
      "outputs": [
        {
          "output_type": "execute_result",
          "data": {
            "text/plain": [
              "TensorShape([None, 62, 56, 1])"
            ]
          },
          "metadata": {
            "tags": []
          },
          "execution_count": 164
        }
      ]
    },
    {
      "cell_type": "code",
      "metadata": {
        "id": "W8-s3hMF8qEC"
      },
      "source": [
        "class CVariationalLayer(keras.layers.Layer):\n",
        "    def vae_loss(self, x, X_decoded):\n",
        "        x = K.flatten(x)\n",
        "        X_decoded = K.flatten(X_decoded)\n",
        "        #Reconstrucrtion_loss\n",
        "        rcon_loss = keras.metrics.binary_crossentropy(x, X_decoded)\n",
        "        #Regularisation  \n",
        "        kl_loss = -5e-4 * K.mean(1 + log_sigma - K.square(mu) - K.exp(log_sigma), axis=-1) \n",
        "        #complete Losss\n",
        "        return K.mean(rcon_loss + kl_loss)\n",
        "\n",
        "    def call(self, inputs):\n",
        "        x = inputs[0]\n",
        "        X_decoded = inputs[1]\n",
        "        loss = self.vae_loss(x, X_decoded)\n",
        "        self.add_loss(loss, inputs=inputs)\n",
        "        return x\n",
        "\n",
        "Con_var = CVariationalLayer()([input_data, X_decoded])"
      ],
      "execution_count": null,
      "outputs": []
    },
    {
      "cell_type": "markdown",
      "metadata": {
        "id": "Y1hrYrncGSoo"
      },
      "source": [
        "## Vae Model"
      ]
    },
    {
      "cell_type": "code",
      "metadata": {
        "id": "P3Wm2AvY9MGf",
        "colab": {
          "base_uri": "https://localhost:8080/"
        },
        "outputId": "987032df-1141-46bd-d94d-fe0e83694c6a"
      },
      "source": [
        "vae = Model(input_data, Con_var)\n",
        "vae.compile(optimizer='adam')\n",
        "vae.summary()"
      ],
      "execution_count": null,
      "outputs": [
        {
          "output_type": "stream",
          "text": [
            "WARNING:tensorflow:Output c_variational_layer_4 missing from loss dictionary. We assume this was done on purpose. The fit and evaluate APIs will not be expecting any data to be passed to c_variational_layer_4.\n",
            "Model: \"model_11\"\n",
            "__________________________________________________________________________________________________\n",
            "Layer (type)                    Output Shape         Param #     Connected to                     \n",
            "==================================================================================================\n",
            "input_11 (InputLayer)           [(None, 62, 56, 1)]  0                                            \n",
            "__________________________________________________________________________________________________\n",
            "conv1d_5 (Conv1D)               (None, 62, 56, 128)  1024        input_11[0][0]                   \n",
            "__________________________________________________________________________________________________\n",
            "conv2d_20 (Conv2D)              (None, 31, 28, 128)  147584      conv1d_5[0][0]                   \n",
            "__________________________________________________________________________________________________\n",
            "conv2d_21 (Conv2D)              (None, 31, 28, 128)  147584      conv2d_20[0][0]                  \n",
            "__________________________________________________________________________________________________\n",
            "conv2d_22 (Conv2D)              (None, 31, 28, 128)  147584      conv2d_21[0][0]                  \n",
            "__________________________________________________________________________________________________\n",
            "flatten_5 (Flatten)             (None, 111104)       0           conv2d_22[0][0]                  \n",
            "__________________________________________________________________________________________________\n",
            "dense_20 (Dense)                (None, 32)           3555360     flatten_5[0][0]                  \n",
            "__________________________________________________________________________________________________\n",
            "dense_21 (Dense)                (None, 2)            66          dense_20[0][0]                   \n",
            "__________________________________________________________________________________________________\n",
            "dense_22 (Dense)                (None, 2)            66          dense_20[0][0]                   \n",
            "__________________________________________________________________________________________________\n",
            "lambda_5 (Lambda)               (None, 2)            0           dense_21[0][0]                   \n",
            "                                                                 dense_22[0][0]                   \n",
            "__________________________________________________________________________________________________\n",
            "model_10 (Functional)           (None, 62, 56, 1)    370497      lambda_5[0][0]                   \n",
            "__________________________________________________________________________________________________\n",
            "c_variational_layer_4 (CVariati (None, 62, 56, 1)    0           input_11[0][0]                   \n",
            "                                                                 model_10[0][0]                   \n",
            "==================================================================================================\n",
            "Total params: 4,369,765\n",
            "Trainable params: 4,369,765\n",
            "Non-trainable params: 0\n",
            "__________________________________________________________________________________________________\n"
          ],
          "name": "stdout"
        }
      ]
    },
    {
      "cell_type": "markdown",
      "metadata": {
        "id": "r7FkdDQi3qtD"
      },
      "source": [
        " From Vae Summary : Input and Ouput dimension is same."
      ]
    },
    {
      "cell_type": "markdown",
      "metadata": {
        "id": "wEvLx_gRGnNM"
      },
      "source": [
        "## Vae fit"
      ]
    },
    {
      "cell_type": "code",
      "metadata": {
        "id": "5veujgFA9UtU",
        "colab": {
          "base_uri": "https://localhost:8080/"
        },
        "outputId": "3f3ca67d-6c4f-4c2b-d6e3-cd0a9cd03ab6"
      },
      "source": [
        "vae.fit(a,shuffle=True,epochs=10)"
      ],
      "execution_count": null,
      "outputs": [
        {
          "output_type": "stream",
          "text": [
            "Train on 50000 samples\n",
            "Epoch 1/10\n",
            "50000/50000 [==============================] - 31s 628us/sample - loss: 0.0385\n",
            "Epoch 2/10\n",
            "50000/50000 [==============================] - 31s 615us/sample - loss: 0.0311\n",
            "Epoch 3/10\n",
            "50000/50000 [==============================] - 31s 614us/sample - loss: 0.0310\n",
            "Epoch 4/10\n",
            "50000/50000 [==============================] - 31s 613us/sample - loss: 0.0310\n",
            "Epoch 5/10\n",
            "50000/50000 [==============================] - 31s 612us/sample - loss: 0.0310\n",
            "Epoch 6/10\n",
            "50000/50000 [==============================] - 31s 614us/sample - loss: 0.0310\n",
            "Epoch 7/10\n",
            "50000/50000 [==============================] - 31s 614us/sample - loss: 0.0310\n",
            "Epoch 8/10\n",
            "50000/50000 [==============================] - 31s 614us/sample - loss: 0.0310\n",
            "Epoch 9/10\n",
            "50000/50000 [==============================] - 31s 614us/sample - loss: 0.0310\n",
            "Epoch 10/10\n",
            "50000/50000 [==============================] - 31s 614us/sample - loss: 0.0310\n"
          ],
          "name": "stdout"
        },
        {
          "output_type": "execute_result",
          "data": {
            "text/plain": [
              "<tensorflow.python.keras.callbacks.History at 0x7f8ec00ccdd8>"
            ]
          },
          "metadata": {
            "tags": []
          },
          "execution_count": 167
        }
      ]
    },
    {
      "cell_type": "markdown",
      "metadata": {
        "id": "QeqXNRhv4LZ4"
      },
      "source": [
        "## Decoder Prediction "
      ]
    },
    {
      "cell_type": "code",
      "metadata": {
        "id": "Pzs06iOX9qI0"
      },
      "source": [
        "sample_vec = np.array([[0,5]])\n",
        "pred = decoder.predict(sample_vec)"
      ],
      "execution_count": null,
      "outputs": []
    },
    {
      "cell_type": "code",
      "metadata": {
        "id": "oMVFXGwC4Dr8"
      },
      "source": [
        ""
      ],
      "execution_count": null,
      "outputs": []
    },
    {
      "cell_type": "code",
      "metadata": {
        "id": "UoI_yBpb14HL",
        "colab": {
          "base_uri": "https://localhost:8080/"
        },
        "outputId": "3d7b1d20-f2ba-4c86-b7c3-a46b9dad713a"
      },
      "source": [
        "pred"
      ],
      "execution_count": null,
      "outputs": [
        {
          "output_type": "execute_result",
          "data": {
            "text/plain": [
              "array([[[[4.07085499e-05],\n",
              "         [5.72561294e-05],\n",
              "         [1.13099530e-08],\n",
              "         ...,\n",
              "         [6.66556730e-07],\n",
              "         [5.88761282e-07],\n",
              "         [6.35818253e-07]],\n",
              "\n",
              "        [[3.27630150e-05],\n",
              "         [4.55736332e-02],\n",
              "         [3.34496386e-09],\n",
              "         ...,\n",
              "         [3.92282715e-07],\n",
              "         [1.65238745e-07],\n",
              "         [1.96868157e-08]],\n",
              "\n",
              "        [[3.95061170e-06],\n",
              "         [1.52238389e-03],\n",
              "         [3.10878256e-08],\n",
              "         ...,\n",
              "         [3.55010421e-08],\n",
              "         [3.48444864e-08],\n",
              "         [3.26791536e-08]],\n",
              "\n",
              "        ...,\n",
              "\n",
              "        [[1.05127242e-07],\n",
              "         [5.06047870e-09],\n",
              "         [9.67321001e-10],\n",
              "         ...,\n",
              "         [3.18951834e-08],\n",
              "         [3.78826037e-08],\n",
              "         [1.90219573e-08]],\n",
              "\n",
              "        [[1.22041133e-08],\n",
              "         [4.21553598e-10],\n",
              "         [3.19906671e-11],\n",
              "         ...,\n",
              "         [1.06115134e-08],\n",
              "         [6.34982955e-09],\n",
              "         [1.39910439e-08]],\n",
              "\n",
              "        [[1.13768147e-05],\n",
              "         [8.00145699e-07],\n",
              "         [1.15484134e-07],\n",
              "         ...,\n",
              "         [1.64629228e-06],\n",
              "         [4.12766440e-06],\n",
              "         [1.47264393e-06]]]], dtype=float32)"
            ]
          },
          "metadata": {
            "tags": []
          },
          "execution_count": 169
        }
      ]
    },
    {
      "cell_type": "code",
      "metadata": {
        "id": "SRha5_xX4Q2h"
      },
      "source": [
        ""
      ],
      "execution_count": null,
      "outputs": []
    },
    {
      "cell_type": "markdown",
      "metadata": {
        "id": "0zRhjsyy4RX-"
      },
      "source": [
        "Taking Random Input and get the predection from decoder and covert into smiles character"
      ]
    },
    {
      "cell_type": "code",
      "metadata": {
        "id": "x1PtQOnx3Hbx",
        "colab": {
          "base_uri": "https://localhost:8080/"
        },
        "outputId": "b33dcea0-3ad8-41b9-998d-c5125f192cc3"
      },
      "source": [
        "pred1[0].reshape(62,56).shape"
      ],
      "execution_count": null,
      "outputs": [
        {
          "output_type": "execute_result",
          "data": {
            "text/plain": [
              "(62, 56)"
            ]
          },
          "metadata": {
            "tags": []
          },
          "execution_count": 171
        }
      ]
    },
    {
      "cell_type": "code",
      "metadata": {
        "id": "GQNJprod1Xv9",
        "colab": {
          "base_uri": "https://localhost:8080/"
        },
        "outputId": "6c345909-b68c-4070-f496-d360a44e7aa8"
      },
      "source": [
        "import random\r\n",
        "pred = []\r\n",
        "for i in random.sample(range(1, 1000), 10):\r\n",
        "  for j in random.sample(range(1, 1000), 10):\r\n",
        "    sample_vec = np.array([[i,j]])\r\n",
        "    pred1 = decoder.predict(sample_vec)\r\n",
        "    pred.append( (smiles_decoder(pred1[0].reshape(62,56)).replace(\" \", \"\") ))\r\n",
        " \r\n",
        "set(pred)"
      ],
      "execution_count": null,
      "outputs": [
        {
          "output_type": "execute_result",
          "data": {
            "text/plain": [
              "{'O=C1@@@@@@[',\n",
              " 'O=C1@@@@C@@[',\n",
              " 'O=C1@@@@[',\n",
              " 'O=C1@@@C@@[CH',\n",
              " 'O=C1@@@[',\n",
              " 'O=C1@@C@@[',\n",
              " 'O=C1@@H@@@@@@@@@[]',\n",
              " 'O=C1@@H@@@@@@@@[',\n",
              " 'O=C1@@H@@@@@@C@@[',\n",
              " 'O=C1@@H@@@@H@@@C@@[',\n",
              " 'O=C1@@H@@@@H@@@C@@[]',\n",
              " 'O=C1@@H@@@@H@@@]@@[]',\n",
              " 'O=C1@@H@@@@HH2(@@@@@CH@@@)[CCHH]2C',\n",
              " 'O=C1@@H@@@@HH2(@@@@@CH@@@C[CCHH]22C11@2',\n",
              " 'O=C1@@H@@@@HH2(@@@@@CH@@@C[CC]H]22C11@@@222',\n",
              " 'O=C1@@H@@@@HH2[@@@@@CH@@@)[CCHH]22C1C',\n",
              " 'O=C1@@H@@@@HH2[@@@@@CH@@@C[CCHH]22C1C@@@22',\n",
              " 'O=C1@@H@@@@HHN[@@@@@CC@@@C[CCHH]22C1C@@@2222111',\n",
              " 'O=C1@@H@@@@HHN[@@@@@CCC@@C[CCHH]2CC1C@@@2222111112111',\n",
              " 'O=C1@@H@@@@H[[@@@@@CCH@@)[CCH]',\n",
              " 'O=C1@@H@@@HH[@@@]@CH@@[CCH@',\n",
              " 'O=C1@@H@@@HH[C[@@@]@CC@@@C[CCHH@NCC1C@@@2@222111121',\n",
              " 'O=C1@@H@@@HH[C[@@@]@CCH@@C[CCHH@',\n",
              " 'O=C1@@H@@@HH[C[@@@]@CCH@@C[CCHH@NCCCC@@@2@22211',\n",
              " 'O=C1@@H@@@HH[N[@@@]@CCH@@C[CCHH@C',\n",
              " 'O=C1@@H@@@HH[[@@@]@CCH@@)[CCH@',\n",
              " 'O=C1@@H@@@HH[[@@@]@CCH@@C[CCHH@',\n",
              " 'O=C1@@H@@@H[@@@]@C@@[CH',\n",
              " 'O=C1@@]@@@@@H(([@@@@]C@@@C[CC@H]22C11@@22',\n",
              " 'O=C1@@]@@@@@H(@@@)]C@@@C[]',\n",
              " 'O=C1@@]@@@@@H(@@@@]@@@C[]',\n",
              " 'O=C1@@]@@@@@H2(@@@@@CCC@@C[CC@H]22111@@222211111@21211=1',\n",
              " 'O=C1@@]@@@@H(@@@@@[]',\n",
              " 'O=C1@@]@@@@H(@@@]@@@[]',\n",
              " 'O=C1@@]@@@@H@@@@@[]',\n",
              " 'O=C1@@]@@@@H@@@]@@[]',\n",
              " 'O=C1@@]@@@@HH((@@@@@]H@@@C[CC]H]211',\n",
              " 'O=C1@@]@@@@HH2(@@@@@CC@@@C[CC]H]22C11@@222211111@2121',\n",
              " 'O=C1@[',\n",
              " 'O=C1H@@@@@@@@[',\n",
              " 'O=C1H@@@@@@[',\n",
              " 'O=C1H@@@@C@@[',\n",
              " 'O=C1N1@@@@@]C@@[CH',\n",
              " 'O=C1N1@@@@@]]C@@@@[CH',\n",
              " 'O=C1N1@@@@@]]C@@@[CH',\n",
              " 'O=C1N1@@@@C@@@[CH',\n",
              " 'O=C1N1@@C@@@]]C@@@@[CH',\n",
              " 'O=C1N1@@CH[@@@]]C@@@@[CCH@',\n",
              " 'O=C1N@1@@@HH[@@@@]@C@H@@C[CCHH@',\n",
              " 'O=C1N@1@@@HH[@@@]@C@H@@C[CCHH@',\n",
              " 'O=C1N@1@@@HH[@@@]@C@H@@[CCH@',\n",
              " 'O=C1N@1@@@HH[C@@@@]@C@H@@@[CCHH@',\n",
              " 'O=C1N@1@@@HH[C@@@@]@C@H@@@[CCHH@NCCCC',\n",
              " 'O=C1N@1@@@HH[C@@@@]@C@H@@@[CCHH@NCCCC@',\n",
              " 'O=C1N@1@@@HH[C@@@@]@C@H@@C[CCHH@',\n",
              " 'O=C1N@1@@@HH[C@@@@]@C@H@@C[CCHH@NCCC',\n",
              " 'O=C1N@1@@@HH[C@@@@]@C@H@@C[CCHH@NCCCC',\n",
              " 'O=C1N@1@@@HH[C@@@@]@C@H@@C[CCHH@NCCCC@@@',\n",
              " 'O=C1N@1@@@HH[C@@@@]@C@H@@C[CCHH@NCCCC@@@2@',\n",
              " 'O=C1N@1@@@HH[C@@@@]@C@H@@C[CCHH@NCCCC@@@C@@22',\n",
              " 'O=C1N@1@@@HH[C@@@@]@C@H@@C[CCHH@NCCCC@@@C@@221',\n",
              " 'O=C1N@1@@@HH[C@@@@]@C@H@@C[CCHH@NCCCCC@@C@@',\n",
              " 'O=C1N@1@@@HH[C@@@@]@C@H@@C[CCHH@NCCCCC@@C@@2',\n",
              " 'O=C1N@1@@@HH[C@@@@]@C@H@@C[CCHH@NCCCCC@@C@@]2',\n",
              " 'O=C1N@1@@@HH[C@@@@]@C@H@@C[CCHH@NCCCCC@@C@@]21',\n",
              " 'O=C1N@1@@CHH[@@@@]]C@@@@@[CCH@',\n",
              " 'O=C1N@1@@CHH[C@@@@]]C@@@@@[CCHH@',\n",
              " 'O=C1N@1@@CHH[C@@@@]]C@@@@@[CCHH@@CC',\n",
              " 'O=C1N@1@@CHH[C@@@@]]C@@@@@[CCHH@@CCC',\n",
              " 'O=C1N@1@@CHH[C@@@@]]C@@@@@[CCHH@@CCC@',\n",
              " 'O=C1N@1@@CHH[C@@@@]]C@@@@@[CCHH@@CCCC@',\n",
              " 'O=C1N@1@@CHH[C@@@@]]C@@@@@[CCHH@@CCCCC@@@',\n",
              " 'O=C1N@1@@CHH[C@@@@]]C@H@@@[CCHH@',\n",
              " 'O=C1N@1@@CHH[C@@@@]]C@H@@@[CCHH@@C',\n",
              " 'O=C1N@1@@CH[@@@]]C@@@@[CCH@',\n",
              " 'O=C1N@@@@@C@@[CH',\n",
              " 'O=C1N@H@@@HH[@@@]@C@H@@[CCH@',\n",
              " 'O=C1N@H@@@HH[@@@]@C@H@@[CCHH@',\n",
              " 'O=C1N@H@@@HH[C[@@@]@C@H@@C[CCHH@NCC',\n",
              " 'O=C1[@]@@@@H(@@@@[]'}"
            ]
          },
          "metadata": {
            "tags": []
          },
          "execution_count": 170
        }
      ]
    },
    {
      "cell_type": "markdown",
      "metadata": {
        "id": "x9pTbZag6WmQ"
      },
      "source": [
        "## Final we get combination of lot of molecule."
      ]
    }
  ]
}